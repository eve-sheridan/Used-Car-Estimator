{
 "cells": [
  {
   "cell_type": "markdown",
   "metadata": {},
   "source": [
    "# Used Car Estimator\n",
    "## A Big Data project using Craigslist Used Car Dataset to build a data science pipeline using Spark\n",
    "#### By Eve Sheridan"
   ]
  },
  {
   "cell_type": "markdown",
   "metadata": {},
   "source": [
    "# Table of Contents <a class=\"anchor\" name=\"table-of-contents\"></a>\n",
    "\n",
    "* [1. Introduction](#introduction)\n",
    "* [2. Spark Configuration](#spark-config)\n",
    "* [3. Phase2 - Cleaning and Reshaping](#phase2)\n",
    "* [4. Phase3 - Develop Machine Learning Pipeline](#phase3)\n",
    "    * [4.1 Data Loading and scaling](#data-loading-scale)\n",
    "        * [4.1.1 Data Loading](#dataload)    \n",
    "        * [4.1.2 Check Null Values](#nulls)  \n",
    "        * [4.1.3 Scale Numeric Variables](#scaling)  \n",
    "    * [4.2 Model 1 - Develop Simple Model](#mod1)\n",
    "        * [4.2.1 Data Preparation](#mod1-dataprep)\n",
    "        * [4.2.2 Train-Test Split](#mod1-train-test-split)\n",
    "        * [4.2.3 Model Building](#mod1-model-building)\n",
    "        * [4.2.4 Evaluation](#mod1-evaluation)\n",
    "            * [4.2.4.1 Root Mean Square Error (RMSE)](#mod1-rmse)\n",
    "            * [4.2.4.2 R squared Error (R2)](#mod1-r2)\n",
    "            * [4.2.4.3 Plot Results](#mod1-plot)\n",
    "    * [4.3 Model 2 - Develop Simple Model (using scaled attributes)](#mod2)\n",
    "        * [4.3.1 Data Preparation](#mod2-dataprep)\n",
    "        * [4.3.2 Train-Test Split](#mod2-train-test-split)\n",
    "        * [4.3.3 Model Building](#mod2-model-building)\n",
    "        * [4.3.4 Evaluation](#mod2-evaluation)\n",
    "            * [4.3.4.1 Root Mean Square Error (RMSE)](#mod2-rmse)\n",
    "            * [4.3.4.2 R squared Error (R2)](#mod2-r2)    \n",
    "            * [4.3.4.3 Plot Results](#mod2-plot)            \n",
    "    * [4.4 Model 3 - Develop More Complex Model (maximising rows)](#mod3)\n",
    "        * [4.4.1 Data Preparation](#mod3-dataprep)\n",
    "        * [4.4.2 Train-Test Split](#mod3-train-test-split)\n",
    "        * [4.4.3 Model Building](#mod3-model-building)\n",
    "        * [4.4.4 Evaluation](#mod3-evaluation)\n",
    "            * [4.4.4.1 Root Mean Square Error (RMSE)](#mod3-rmse)\n",
    "            * [4.4.4.2 R squared Error (R2)](#mod3-r2)  \n",
    "            * [4.4.4.3 Plot Results](#mod3-plot)               \n",
    "    * [4.5 Model 4 - Develop More Complex Model (maximising attributes)](#mod4)\n",
    "        * [4.5.1 Data Preparation](#mod4-dataprep)\n",
    "        * [4.5.2 Train-Test Split](#mod4-train-test-split)\n",
    "        * [4.5.3 Model Building](#mod4-model-building)\n",
    "        * [4.5.4 Evaluation](#mod4-evaluation)\n",
    "            * [4.5.4.1 Root Mean Square Error (RMSE)](#mod4-rmse)\n",
    "            * [4.5.4.2 R squared Error (R2)](#mod4-r2) \n",
    "            * [4.5.4.3 Plot Results](#mod4-plot)                 \n",
    "    * [4.6 Best Model Selection](#best-mod)\n",
    "        * [4.6.1 Setup the model](#best-mod-setup)\n",
    "        * [4.6.2 Cross Validation & Hyperparameter Tuning](#bestmod-crossval)\n",
    "        * [4.6.3 Choosing the Best Model](#bestmod-choose)\n",
    "        * [4.6.4 Making Predictions](#bestmod-pred)\n",
    "* [5. Conclusion](#conclusion)\n",
    "* [6. References](#references)\n",
    "\n"
   ]
  },
  {
   "cell_type": "markdown",
   "metadata": {},
   "source": [
    "# 1. Introduction <a class=\"anchor\" name=\"introduction\"></a>"
   ]
  },
  {
   "cell_type": "markdown",
   "metadata": {},
   "source": [
    "This project aims to build a real-world data science pipeline using Spark and is based on the Craigslist Used Car Dataset. The original file is named 'vehilces.csv' and contained 426880 records and 26 attributes.\n"
   ]
  },
  {
   "cell_type": "markdown",
   "metadata": {},
   "source": [
    "NOTE: In order to more easily navigate this Jupyter notebook, at the end of each section you can <font color=black>return to the [Table of Contents](#table-of-contents)</font> by clicking the link."
   ]
  },
  {
   "cell_type": "markdown",
   "metadata": {},
   "source": [
    "# 2. Spark Configuration <a class=\"anchor\" name=\"spark-config\"></a>"
   ]
  },
  {
   "cell_type": "markdown",
   "metadata": {},
   "source": [
    "All of the required libraries are imported and spark configuration is completed in the cell below."
   ]
  },
  {
   "cell_type": "code",
   "execution_count": 1,
   "metadata": {},
   "outputs": [],
   "source": [
    "#Import all the required libraries\n",
    "from pyspark import SparkContext, SparkConf\n",
    "\n",
    "from pyspark.sql import SparkSession, SQLContext\n",
    "from pyspark.sql.types import StructType, StringType, IntegerType, FloatType\n",
    "from pyspark.sql.functions import log, col, exp, round, avg, isnan, when, count\n",
    "\n",
    "from pyspark.ml import Pipeline\n",
    "from pyspark.ml.regression import LinearRegression\n",
    "from pyspark.ml.feature import VectorAssembler, OneHotEncoder, StringIndexer, MinMaxScaler\n",
    "from pyspark.ml.evaluation import RegressionEvaluator\n",
    "from pyspark.ml.tuning import CrossValidator, ParamGridBuilder\n",
    "\n",
    "#plotting\n",
    "import matplotlib.pyplot as plt\n",
    "\n",
    "#Spark configuration\n",
    "master = \"local[*]\"\n",
    "app_name = \"SparkSQLAssessmentApp\"\n",
    "\n",
    "# Setup configuration parameters for Spark\n",
    "spark_conf = SparkConf().setMaster(master).setAppName(app_name)\n",
    "sc = SparkContext.getOrCreate(spark_conf)\n",
    "sc.setLogLevel('ERROR')\n",
    "sqlContext = SQLContext(sc)\n",
    "\n",
    "# Create a SparkSession\n",
    "spark = (SparkSession\n",
    ".builder\n",
    ".appName(\"SparkSQLAssessmentApp\")\n",
    ".getOrCreate())"
   ]
  },
  {
   "cell_type": "markdown",
   "metadata": {},
   "source": [
    "<font color=black>Return to \n",
    "[Table of Contents](#table-of-contents)</font>"
   ]
  },
  {
   "cell_type": "markdown",
   "metadata": {},
   "source": [
    "# 3. Phase 2 - Cleaning and Reshaping <a class=\"anchor\" name=\"phase2\"></a>"
   ]
  },
  {
   "cell_type": "markdown",
   "metadata": {},
   "source": [
    "If you already have a copy of the vehiclesclean2.csv and wish to skip this section please go directly to section 4. [Phase3 - Develop Machine Learning Pipeline](#phase3)"
   ]
  },
  {
   "cell_type": "code",
   "execution_count": 2,
   "metadata": {},
   "outputs": [],
   "source": [
    "#Create a custom schema to import the file. \n",
    "schema =  StructType() \\\n",
    "    .add(\"id\", StringType(),True) \\\n",
    "    .add(\"url\", StringType(),True) \\\n",
    "    .add(\"region\", StringType(),True) \\\n",
    "    .add(\"region_url\", StringType(),True) \\\n",
    "    .add(\"price\", IntegerType(),True) \\\n",
    "    .add(\"year\", StringType(),True) \\\n",
    "    .add(\"manufacturer\", StringType(),True) \\\n",
    "    .add(\"model\", StringType(),True) \\\n",
    "    .add(\"condition\", StringType(),True) \\\n",
    "    .add(\"cylinders\", StringType(),True) \\\n",
    "    .add(\"fuel\", StringType(),True) \\\n",
    "    .add(\"odometer\", FloatType(),True) \\\n",
    "    .add(\"title_status\", StringType(),True) \\\n",
    "    .add(\"transmission\", StringType(),True) \\\n",
    "    .add(\"VIN\", StringType(),True) \\\n",
    "    .add(\"drive\", StringType(),True) \\\n",
    "    .add(\"size\", StringType(),True) \\\n",
    "    .add(\"type\", StringType(),True) \\\n",
    "    .add(\"paint_color\", StringType(),True) \\\n",
    "    .add(\"image_url\", StringType(),True) \\\n",
    "    .add(\"description\", StringType(),True) \\\n",
    "    .add(\"county\", StringType(),True) \\\n",
    "    .add(\"state\", StringType(),True) \\\n",
    "    .add(\"lat\", FloatType(),True) \\\n",
    "    .add(\"long\", StringType(),True) \\\n",
    "    .add(\"date\", StringType(),True) "
   ]
  },
  {
   "cell_type": "code",
   "execution_count": 3,
   "metadata": {},
   "outputs": [
    {
     "name": "stdout",
     "output_type": "stream",
     "text": [
      "root\n",
      " |-- id: string (nullable = true)\n",
      " |-- url: string (nullable = true)\n",
      " |-- region: string (nullable = true)\n",
      " |-- region_url: string (nullable = true)\n",
      " |-- price: integer (nullable = true)\n",
      " |-- year: string (nullable = true)\n",
      " |-- manufacturer: string (nullable = true)\n",
      " |-- model: string (nullable = true)\n",
      " |-- condition: string (nullable = true)\n",
      " |-- cylinders: string (nullable = true)\n",
      " |-- fuel: string (nullable = true)\n",
      " |-- odometer: float (nullable = true)\n",
      " |-- title_status: string (nullable = true)\n",
      " |-- transmission: string (nullable = true)\n",
      " |-- VIN: string (nullable = true)\n",
      " |-- drive: string (nullable = true)\n",
      " |-- size: string (nullable = true)\n",
      " |-- type: string (nullable = true)\n",
      " |-- paint_color: string (nullable = true)\n",
      " |-- image_url: string (nullable = true)\n",
      " |-- description: string (nullable = true)\n",
      " |-- county: string (nullable = true)\n",
      " |-- state: string (nullable = true)\n",
      " |-- lat: float (nullable = true)\n",
      " |-- long: string (nullable = true)\n",
      " |-- date: string (nullable = true)\n",
      "\n"
     ]
    }
   ],
   "source": [
    "#Import the file. \n",
    "vehicles = spark.read.format('csv')\\\n",
    "            .option('header',True)\\\n",
    "            .option('multiline',True)\\\n",
    "            .option('escape','\"')\\\n",
    "            .option(\"delimiter\", \",\")\\\n",
    "            .schema(schema) \\\n",
    "            .load('vehicles.csv')\n",
    "\n",
    "# Create Views from Dataframes\n",
    "vehicles.createOrReplaceTempView(\"sql_vehicles\")\n",
    "#Check the schema\n",
    "vehicles.printSchema()"
   ]
  },
  {
   "cell_type": "code",
   "execution_count": 4,
   "metadata": {},
   "outputs": [],
   "source": [
    "# Use SQL to select relevant columns and do initial conversions\n",
    "# Use the DISTINCT syntax to remove any complete duplicates\n",
    "# Capitalise all string fields\n",
    "# extract cylinders and integer\n",
    "# convert the posted_date and round to date rather than datetime. \n",
    "# Description field has been left in for use in imputing missing values \n",
    "\n",
    "vehicles = spark.sql('''\n",
    "  SELECT DISTINCT\n",
    "        ID,\n",
    "        upper(region) as region, \n",
    "        price,\n",
    "        year,\n",
    "        upper(manufacturer) as manufacturer,\n",
    "        upper(model) as model,\n",
    "        upper(condition) as condition,\n",
    "        cast(left(cylinders,2) as int) as cylinders,\n",
    "        upper(fuel) as fuel,\n",
    "        odometer,\n",
    "        upper(title_status) as title_status,\n",
    "        upper(transmission) as transmission,\n",
    "        upper(drive) as drive, \n",
    "        upper(size) as size,\n",
    "        upper(type) as type,\n",
    "        upper(paint_color) as paint_color,\n",
    "        upper(county) as county,\n",
    "        upper(state) as state,\n",
    "        lat,\n",
    "        long,\n",
    "        cast(left(date,10) as date) as date,\n",
    "        upper(description) as description\n",
    "        \n",
    "  FROM sql_vehicles\n",
    "''')\n",
    "#Create new temp view with types and caps updated for next steps\n",
    "vehicles.createOrReplaceTempView(\"sql_vehicles\")"
   ]
  },
  {
   "cell_type": "code",
   "execution_count": 5,
   "metadata": {},
   "outputs": [],
   "source": [
    "#Delete any records that are not 'CLEAN'\n",
    "vehicles = spark.sql('''\n",
    "  SELECT *\n",
    "    FROM sql_vehicles\n",
    "    WHERE title_status = \"CLEAN\"\n",
    "''')\n",
    "\n",
    "vehicles.createOrReplaceTempView(\"sql_vehicles\")"
   ]
  },
  {
   "cell_type": "code",
   "execution_count": 6,
   "metadata": {},
   "outputs": [],
   "source": [
    "#Delete any records that are  type 'TRUCK' or 'BUS'\n",
    "vehicles = spark.sql('''\n",
    "  SELECT *\n",
    "    FROM sql_vehicles\n",
    "    WHERE type <> \"TRUCK\" AND type <> \"BUS\"\n",
    "''')\n",
    "vehicles.createOrReplaceTempView(\"sql_vehicles\")"
   ]
  },
  {
   "cell_type": "code",
   "execution_count": 7,
   "metadata": {},
   "outputs": [],
   "source": [
    "#Delete any records that don't have a fuel type\n",
    "vehicles = spark.sql('''\n",
    "  SELECT *\n",
    "    FROM sql_vehicles\n",
    "    WHERE fuel is not null\n",
    "''')\n",
    "vehicles.createOrReplaceTempView(\"sql_vehicles\")"
   ]
  },
  {
   "cell_type": "code",
   "execution_count": 8,
   "metadata": {},
   "outputs": [],
   "source": [
    "#Delete any records that have null transmission\n",
    "vehicles = spark.sql('''\n",
    "  SELECT *\n",
    "    FROM sql_vehicles\n",
    "    WHERE transmission is not null\n",
    "''')\n",
    "vehicles.createOrReplaceTempView(\"sql_vehicles\")"
   ]
  },
  {
   "cell_type": "code",
   "execution_count": 9,
   "metadata": {},
   "outputs": [],
   "source": [
    "#Delete any records that have price = 0 or null\n",
    "vehicles = spark.sql('''\n",
    "  SELECT *\n",
    "    FROM sql_vehicles\n",
    "    WHERE price is not null and price > 0\n",
    "''')\n",
    "vehicles.createOrReplaceTempView(\"sql_vehicles\")"
   ]
  },
  {
   "cell_type": "code",
   "execution_count": 10,
   "metadata": {},
   "outputs": [],
   "source": [
    "#Select columns and extract year from description if it exists\n",
    "vehicles = spark.sql('''\n",
    "  SELECT id,\n",
    "        region,\n",
    "        price,\n",
    "        coalesce(cast(cast(year as int) as string), \n",
    "                cast(cast(left(description,4) as int) as string), \n",
    "                cast(cast(SUBSTR(description, POSITION(description, 'YEAR: ')+6, 4) as int) as string)) \n",
    "                as year,\n",
    "        manufacturer,\n",
    "        model,\n",
    "        condition,\n",
    "        cylinders,\n",
    "        fuel,\n",
    "        odometer,\n",
    "        title_status,\n",
    "        transmission,\n",
    "        drive,\n",
    "        size,\n",
    "        type,\n",
    "        paint_color,\n",
    "        county,\n",
    "        state,\n",
    "        lat,\n",
    "        long,\n",
    "        date,\n",
    "        description\n",
    "\n",
    "    FROM sql_vehicles\n",
    "''')\n",
    "vehicles.createOrReplaceTempView(\"sql_vehicles\")"
   ]
  },
  {
   "cell_type": "code",
   "execution_count": 11,
   "metadata": {},
   "outputs": [],
   "source": [
    "#Delete any remaining records with null year\n",
    "vehicles = spark.sql('''\n",
    "  SELECT *\n",
    "    FROM sql_vehicles\n",
    "    WHERE year is not null\n",
    "''')\n",
    "vehicles.createOrReplaceTempView(\"sql_vehicles\")"
   ]
  },
  {
   "cell_type": "code",
   "execution_count": 12,
   "metadata": {},
   "outputs": [],
   "source": [
    "# Delete any records with null manufacturer\n",
    "vehicles = spark.sql('''\n",
    "  SELECT *\n",
    "    from sql_vehicles r\n",
    "    WHERE manufacturer is not null and manufacturer<> ''\n",
    "''')\n",
    "vehicles.createOrReplaceTempView(\"sql_vehicles\")"
   ]
  },
  {
   "cell_type": "code",
   "execution_count": 13,
   "metadata": {},
   "outputs": [],
   "source": [
    "# Delete any records with null model\n",
    "vehicles = spark.sql('''\n",
    "  SELECT *\n",
    "    from sql_vehicles r\n",
    "    WHERE model is not null and model <> ''\n",
    "''')\n",
    "vehicles.createOrReplaceTempView(\"sql_vehicles\")"
   ]
  },
  {
   "cell_type": "code",
   "execution_count": 14,
   "metadata": {},
   "outputs": [],
   "source": [
    "# Exclude price outliers: > 90,000 and < 1000\n",
    "vehicles = spark.sql('''\n",
    "  SELECT *\n",
    "    FROM sql_vehicles\n",
    "    WHERE price < 90000 and price > 1000\n",
    "''')\n",
    "vehicles.createOrReplaceTempView(\"sql_vehicles\")"
   ]
  },
  {
   "cell_type": "code",
   "execution_count": 15,
   "metadata": {},
   "outputs": [],
   "source": [
    "#Create a new field 'pricelog' to use as label in machine learning model\n",
    "vehicles = vehicles.withColumn(\"pricelog\", log(\"price\"))\n",
    "vehicles.createOrReplaceTempView(\"sql_vehicles\")"
   ]
  },
  {
   "cell_type": "code",
   "execution_count": 16,
   "metadata": {},
   "outputs": [],
   "source": [
    "# Exclude year outliers: < 1995 and > 2020\n",
    "vehicles = spark.sql('''\n",
    "  SELECT *\n",
    "    FROM sql_vehicles\n",
    "    WHERE int(year) > 1995 AND int(year) < 2020\n",
    "''')\n",
    "vehicles.createOrReplaceTempView(\"sql_vehicles\")"
   ]
  },
  {
   "cell_type": "code",
   "execution_count": 17,
   "metadata": {},
   "outputs": [],
   "source": [
    "# Exclude odo outliers: > 300000 and < 500\n",
    "vehicles = spark.sql('''\n",
    "  SELECT *\n",
    "    FROM sql_vehicles\n",
    "    WHERE odometer < 300000 and odometer > 500\n",
    "''')\n",
    "vehicles.createOrReplaceTempView(\"sql_vehicles\")"
   ]
  },
  {
   "cell_type": "code",
   "execution_count": 18,
   "metadata": {},
   "outputs": [],
   "source": [
    "#Select required attributes and transform year to int\n",
    "vehicles = spark.sql('''\n",
    "  SELECT \n",
    "        id,\n",
    "        price,\n",
    "        pricelog,\n",
    "        CAST(year as int),\n",
    "        manufacturer,\n",
    "        model,\n",
    "        condition,\n",
    "        cylinders,\n",
    "        fuel,\n",
    "        odometer,\n",
    "        transmission,\n",
    "        drive, \n",
    "        type,\n",
    "        paint_color,\n",
    "        state        \n",
    "  FROM sql_vehicles\n",
    "''')\n",
    "#Create new temp view\n",
    "vehicles.createOrReplaceTempView(\"sql_vehicles\")"
   ]
  },
  {
   "cell_type": "code",
   "execution_count": 19,
   "metadata": {},
   "outputs": [
    {
     "name": "stdout",
     "output_type": "stream",
     "text": [
      "(218927, 15)\n"
     ]
    }
   ],
   "source": [
    "#check size of final file\n",
    "print((vehicles.count(), len(vehicles.columns)))"
   ]
  },
  {
   "cell_type": "code",
   "execution_count": 20,
   "metadata": {},
   "outputs": [],
   "source": [
    "#Export final file\n",
    "vehicles.repartition(1).write.format(\"com.databricks.spark.csv\").option(\"header\", \"true\").save(\"vehiclesclean2.csv\")"
   ]
  },
  {
   "cell_type": "markdown",
   "metadata": {},
   "source": [
    "<font color=black>Return to \n",
    "[Table of Contents](#table-of-contents)</font>"
   ]
  },
  {
   "cell_type": "markdown",
   "metadata": {},
   "source": [
    "# 4. Phase 3 - Develop Machine Learning Pipeline <a class=\"anchor\" name=\"phase3\"></a>"
   ]
  },
  {
   "cell_type": "markdown",
   "metadata": {},
   "source": [
    "A supervised machine learning model (Linear Regression) will be developed using this dataset with Price as the label with the goal of predicting the price given a new unlabeled input.  "
   ]
  },
  {
   "cell_type": "markdown",
   "metadata": {},
   "source": [
    "<font color=black>Return to \n",
    "[Table of Contents](#table-of-contents)</font>"
   ]
  },
  {
   "cell_type": "markdown",
   "metadata": {},
   "source": [
    "## 4.1 Data Loading and scaling <a class=\"anchor\" name=\"data-loading-scale\"></a>"
   ]
  },
  {
   "cell_type": "markdown",
   "metadata": {},
   "source": [
    "### 4.1.1 Data Loading <a class=\"anchor\" name=\"dataload\"></a>"
   ]
  },
  {
   "cell_type": "markdown",
   "metadata": {},
   "source": [
    "Please use the file ‘vehilcesclean2.csv’ for this section."
   ]
  },
  {
   "cell_type": "markdown",
   "metadata": {},
   "source": [
    "In this section, the data file will be loaded, null values will be checked and the numeric columns year and odometer will be scaled."
   ]
  },
  {
   "cell_type": "code",
   "execution_count": 21,
   "metadata": {},
   "outputs": [],
   "source": [
    "#Read in the file\n",
    "vehicles = spark.read.csv('vehiclesclean2.csv', header = True, inferSchema = True)\n",
    "\n",
    "#Get column names\n",
    "cols = vehicles.columns"
   ]
  },
  {
   "cell_type": "code",
   "execution_count": 22,
   "metadata": {},
   "outputs": [
    {
     "name": "stdout",
     "output_type": "stream",
     "text": [
      "root\n",
      " |-- id: long (nullable = true)\n",
      " |-- price: integer (nullable = true)\n",
      " |-- pricelog: double (nullable = true)\n",
      " |-- year: integer (nullable = true)\n",
      " |-- manufacturer: string (nullable = true)\n",
      " |-- model: string (nullable = true)\n",
      " |-- condition: string (nullable = true)\n",
      " |-- cylinders: integer (nullable = true)\n",
      " |-- fuel: string (nullable = true)\n",
      " |-- odometer: double (nullable = true)\n",
      " |-- transmission: string (nullable = true)\n",
      " |-- drive: string (nullable = true)\n",
      " |-- type: string (nullable = true)\n",
      " |-- paint_color: string (nullable = true)\n",
      " |-- state: string (nullable = true)\n",
      "\n"
     ]
    }
   ],
   "source": [
    "#Check the schema\n",
    "vehicles.printSchema()"
   ]
  },
  {
   "cell_type": "markdown",
   "metadata": {},
   "source": [
    "<font color=black>Return to \n",
    "[Table of Contents](#table-of-contents)</font>"
   ]
  },
  {
   "cell_type": "markdown",
   "metadata": {},
   "source": [
    "### 4.1.2 Check null values <a class=\"anchor\" name=\"nulls\"></a>"
   ]
  },
  {
   "cell_type": "code",
   "execution_count": 23,
   "metadata": {},
   "outputs": [
    {
     "name": "stdout",
     "output_type": "stream",
     "text": [
      "+---+-----+--------+----+------------+-----+---------+---------+----+--------+------------+-----+----+-----------+-----+\n",
      "| id|price|pricelog|year|manufacturer|model|condition|cylinders|fuel|odometer|transmission|drive|type|paint_color|state|\n",
      "+---+-----+--------+----+------------+-----+---------+---------+----+--------+------------+-----+----+-----------+-----+\n",
      "|  0|    0|       0|   0|           0|    0|    69308|    77544|   0|       0|           0|47917|   0|      36138|    0|\n",
      "+---+-----+--------+----+------------+-----+---------+---------+----+--------+------------+-----+----+-----------+-----+\n",
      "\n"
     ]
    }
   ],
   "source": [
    "#check null values for each attribute that will need to be removed before inclusion in a ML model\n",
    "vehicles.select([count(when(isnan(c) | col(c).isNull(), c)).alias(c) for c in vehicles.columns]\n",
    "   ).show()"
   ]
  },
  {
   "cell_type": "markdown",
   "metadata": {},
   "source": [
    "Note the large number of null values that will be need to be removed when using attributes condition, cylinders, drive and paint_color."
   ]
  },
  {
   "cell_type": "markdown",
   "metadata": {},
   "source": [
    "<font color=black>Return to \n",
    "[Table of Contents](#table-of-contents)</font>"
   ]
  },
  {
   "cell_type": "markdown",
   "metadata": {},
   "source": [
    "### 4.1.3 Scale Numeric Values <a class=\"anchor\" name=\"scaling\"></a>"
   ]
  },
  {
   "cell_type": "markdown",
   "metadata": {},
   "source": [
    "Feature Scaling is a technique to standardize the independent features present in the data in a fixed range. If feature scaling is not done, then a machine learning algorithm tends to weigh greater values, higher and consider smaller values as the lower values, regardless of the unit of the values.  The numeric columns year and odometer will be scaled to avoid these problems in the linear regression model.\n",
    "NOTE: cylinders was not scaled because of the large number of null values present."
   ]
  },
  {
   "cell_type": "code",
   "execution_count": 24,
   "metadata": {},
   "outputs": [
    {
     "name": "stdout",
     "output_type": "stream",
     "text": [
      "+----------+-----+-----------------+----+------------+------------+---------+---------+-----+--------+------------+-----+-----+-----------+-----+--------+------------+--------------------+--------------------+\n",
      "|        id|price|         pricelog|year|manufacturer|       model|condition|cylinders| fuel|odometer|transmission|drive| type|paint_color|state|year_vec|odometer_vec|         year_scaled|     odometer_scaled|\n",
      "+----------+-----+-----------------+----+------------+------------+---------+---------+-----+--------+------------+-----+-----+-----------+-----+--------+------------+--------------------+--------------------+\n",
      "|7301593334| 8995|9.104424146384634|2013|        FORD|EXPLORER 4X4|     GOOD|        6|  GAS|150000.0|   AUTOMATIC|  4WD|  SUV|     CUSTOM|   CT|[2013.0]|  [150000.0]|[0.7391304347826086]|[0.4991652698849408]|\n",
      "|7301621162|10000|9.210340371976184|2010|      TOYOTA|        RAV4| LIKE NEW|        4|  GAS|105000.0|   AUTOMATIC| null|  SUV|       GREY|   DE|[2010.0]|  [105000.0]|[0.6086956521739131]| [0.348913849174285]|\n",
      "|7301633116| 6995|8.852950887099581|2008|      TOYOTA|       CAMRY|     null|     null|OTHER|183205.0|   AUTOMATIC| null|SEDAN|       null|   MT|[2008.0]|  [183205.0]|[0.5217391304347826]|[0.6100341237671036]|\n",
      "+----------+-----+-----------------+----+------------+------------+---------+---------+-----+--------+------------+-----+-----+-----------+-----+--------+------------+--------------------+--------------------+\n",
      "only showing top 3 rows\n",
      "\n"
     ]
    }
   ],
   "source": [
    "#Scale Numeric Values\n",
    "#define the numeric columns for scaling\n",
    "numericCols = ['year', 'odometer']\n",
    "\n",
    "#Create vector columns for input to scaler\n",
    "assemblers = [VectorAssembler(inputCols=[col], outputCol=col + \"_vec\") for col in numericCols]\n",
    "\n",
    "#Define scaler on selected columns\n",
    "scalers = [MinMaxScaler(inputCol=col + \"_vec\", outputCol=col + \"_scaled\") for col in numericCols]\n",
    "\n",
    "#assemble into pipeline\n",
    "pipeline = Pipeline(stages=assemblers + scalers)\n",
    "\n",
    "#setup model\n",
    "scalerModel = pipeline.fit(vehicles)\n",
    "\n",
    "#apply transformation\n",
    "scaledData = scalerModel.transform(vehicles)\n",
    "\n",
    "#Check\n",
    "scaledData.show(3)\n",
    "\n",
    "#Update view\n",
    "scaledData.createOrReplaceTempView(\"sql_vehicles\")"
   ]
  },
  {
   "cell_type": "code",
   "execution_count": 25,
   "metadata": {},
   "outputs": [],
   "source": [
    "#Select required attributes for vehicles file\n",
    "vehicles = spark.sql('''\n",
    "  SELECT \n",
    "        id,\n",
    "        price,\n",
    "        pricelog,\n",
    "        year,\n",
    "        year_vec,\n",
    "        year_scaled,\n",
    "        manufacturer,\n",
    "        model,\n",
    "        condition,\n",
    "        cylinders,\n",
    "        fuel,\n",
    "        odometer,\n",
    "        odometer_vec,\n",
    "        odometer_scaled,\n",
    "        transmission,\n",
    "        drive, \n",
    "        type,\n",
    "        paint_color,\n",
    "        state        \n",
    "  FROM sql_vehicles\n",
    "''')\n",
    "#Create new temp view\n",
    "vehicles.createOrReplaceTempView(\"sql_vehicles\")"
   ]
  },
  {
   "cell_type": "markdown",
   "metadata": {},
   "source": [
    "<font color=black>Return to \n",
    "[Table of Contents](#table-of-contents)</font>"
   ]
  },
  {
   "cell_type": "markdown",
   "metadata": {},
   "source": [
    "## <font color='blue'>4.2 Model 1 - Develop Simple Model <a class=\"anchor\" name=\"mod1\"></a></font>\n"
   ]
  },
  {
   "cell_type": "markdown",
   "metadata": {},
   "source": [
    "Model 1 is first attempt at creating a simple regression model using only year, manufacturer and odometer.  Default hyperparameters will be used so no hyperparameter tuning will be carried out on model 1.\n",
    "\n",
    "NOTE: year_scaled and odometer_scaled will be used in the next model (Model 2) to compare if having these attributes scaled makes a difference."
   ]
  },
  {
   "cell_type": "markdown",
   "metadata": {},
   "source": [
    "<font color=black>Return to \n",
    "[Table of Contents](#table-of-contents)</font>"
   ]
  },
  {
   "cell_type": "markdown",
   "metadata": {},
   "source": [
    "### <font color='blue'>4.2.1 Data Preparation <a class=\"anchor\" name=\"mod1-dataprep\"></a></font>\n"
   ]
  },
  {
   "cell_type": "code",
   "execution_count": 26,
   "metadata": {},
   "outputs": [
    {
     "name": "stdout",
     "output_type": "stream",
     "text": [
      "+------------------+----+------------+--------+\n",
      "|          pricelog|year|manufacturer|odometer|\n",
      "+------------------+----+------------+--------+\n",
      "| 9.104424146384634|2013|        FORD|150000.0|\n",
      "| 9.210340371976184|2010|      TOYOTA|105000.0|\n",
      "| 8.852950887099581|2008|      TOYOTA|183205.0|\n",
      "| 10.36059589379613|2018|  ALFA-ROMEO| 21415.0|\n",
      "|10.085767441795337|2014|   CHEVROLET| 94860.0|\n",
      "+------------------+----+------------+--------+\n",
      "only showing top 5 rows\n",
      "\n"
     ]
    }
   ],
   "source": [
    "#Select required attributes for mod1 and take a look\n",
    "mod1 = vehicles.select(\"pricelog\", \"year\", \"manufacturer\", \"odometer\")\n",
    "mod1.show(5)"
   ]
  },
  {
   "cell_type": "markdown",
   "metadata": {},
   "source": [
    "<font color=black>Return to \n",
    "[Table of Contents](#table-of-contents)</font>"
   ]
  },
  {
   "cell_type": "markdown",
   "metadata": {},
   "source": [
    "### <font color='blue'>4.2.2 Train-Test Split <a class=\"anchor\" name=\"mod1-train-test-split\"></a></font>\n"
   ]
  },
  {
   "cell_type": "markdown",
   "metadata": {},
   "source": [
    "Split the data into train and test sets"
   ]
  },
  {
   "cell_type": "code",
   "execution_count": 27,
   "metadata": {},
   "outputs": [
    {
     "name": "stdout",
     "output_type": "stream",
     "text": [
      "There are 175126 rows in the training set, \n",
      "and 43801 in the test set\n"
     ]
    }
   ],
   "source": [
    "#Split the data and check the row numbers\n",
    "trainDF, testDF = mod1.randomSplit([.8, .2], seed=42)\n",
    "print(f\"\"\"There are {trainDF.count()} rows in the training set, \n",
    "and {testDF.count()} in the test set\"\"\")\n"
   ]
  },
  {
   "cell_type": "markdown",
   "metadata": {},
   "source": [
    "<font color=black>Return to \n",
    "[Table of Contents](#table-of-contents)</font>"
   ]
  },
  {
   "cell_type": "markdown",
   "metadata": {},
   "source": [
    "### <font color='blue'>4.2.3 Model Building <a class=\"anchor\" name=\"mod1-model-building\"></a></font>\n"
   ]
  },
  {
   "cell_type": "markdown",
   "metadata": {},
   "source": [
    "First transform the data into a single vector using VectorAssembler which takes a list of input columns and creates a new dataframe with an additional column, called features.  VectorAssembler combines the values of those input columns into a single vector.\n",
    "\n",
    "The categorical values need to be first mapped into numeric values by applying StringIndexer (which converts categorical values into category indexes) then pass these inputs to the OneHotEncoder which maps a column of category indices to a column of binary vectors."
   ]
  },
  {
   "cell_type": "code",
   "execution_count": 28,
   "metadata": {},
   "outputs": [],
   "source": [
    "#Define the categorical and numeric columns\n",
    "categoricalCols = ['manufacturer']\n",
    "numericCols = ['year', 'odometer']\n",
    "\n",
    "#Define column names for index output columns and ohe output\n",
    "indexOutputCols = [x + \"Index\" for x in categoricalCols]\n",
    "oheOutputCols = [x + \"OHE\" for x in categoricalCols]\n",
    "\n",
    "#apply string indexer and ohe\n",
    "stringIndexer = StringIndexer(inputCols=categoricalCols, outputCols=indexOutputCols, handleInvalid=\"skip\")\n",
    "oheEncoder = OneHotEncoder(inputCols=indexOutputCols, outputCols=oheOutputCols)\n",
    "\n",
    "#Define the vector assembler inputs (ohe and numeric columns)\n",
    "assemblerInputs = oheOutputCols + numericCols\n",
    "\n",
    "#Run the vector assembler\n",
    "vecAssembler = VectorAssembler(inputCols=assemblerInputs, outputCol=\"features\")"
   ]
  },
  {
   "cell_type": "markdown",
   "metadata": {},
   "source": [
    "In order to apply our model to our test set, need to prepare the test data in the same way as the training set so setup the stages in a pipeline."
   ]
  },
  {
   "cell_type": "code",
   "execution_count": 29,
   "metadata": {},
   "outputs": [
    {
     "name": "stdout",
     "output_type": "stream",
     "text": [
      "+--------------------+-----------------+------------------+\n",
      "|            features|         pricelog|        prediction|\n",
      "+--------------------+-----------------+------------------+\n",
      "|(41,[8,39,40],[1....|6.957497370876951|10.383523316827535|\n",
      "|(41,[3,39,40],[1....|7.003065458786462|7.6731590115179245|\n",
      "|(41,[15,39,40],[1...|7.003065458786462| 8.233746201941528|\n",
      "|(41,[5,39,40],[1....|7.003065458786462| 8.071574051574174|\n",
      "|(41,[1,39,40],[1....|7.003065458786462| 8.281197919979633|\n",
      "+--------------------+-----------------+------------------+\n",
      "only showing top 5 rows\n",
      "\n"
     ]
    }
   ],
   "source": [
    "#Define the linear regression\n",
    "lr = LinearRegression(labelCol=\"pricelog\", featuresCol=\"features\")\n",
    "\n",
    "#build the pipeline\n",
    "pipeline = Pipeline(stages = [stringIndexer, oheEncoder, vecAssembler, lr])\n",
    "\n",
    "#apply the pipeline to the training dataset\n",
    "pipelineModel = pipeline.fit(trainDF)\n",
    "\n",
    "#apply the pipeline to the test dataset\n",
    "predDF = pipelineModel.transform(testDF)\n",
    "\n",
    "#take a sample and look\n",
    "predDF.select(\"features\", \"pricelog\", \"prediction\").show(5)"
   ]
  },
  {
   "cell_type": "markdown",
   "metadata": {},
   "source": [
    "The features column is represented as a SparseVector. There are 41\n",
    "features after one-hot encoding, followed by the nonzero indices and then the values\n",
    "themselves."
   ]
  },
  {
   "cell_type": "code",
   "execution_count": 30,
   "metadata": {},
   "outputs": [
    {
     "name": "stdout",
     "output_type": "stream",
     "text": [
      "+--------------------+----+-------------+--------+-----------------+------------------+\n",
      "|            features|year| manufacturer|odometer|         pricelog|        prediction|\n",
      "+--------------------+----+-------------+--------+-----------------+------------------+\n",
      "|(41,[8,39,40],[1....|2016|MERCEDES-BENZ| 17046.0|6.957497370876951|10.383523316827535|\n",
      "|(41,[3,39,40],[1....|1997|        HONDA|217005.0|7.003065458786462|7.6731590115179245|\n",
      "|(41,[15,39,40],[1...|1999|         AUDI|195000.0|7.003065458786462| 8.233746201941528|\n",
      "|(41,[5,39,40],[1....|2002|       NISSAN|181180.0|7.003065458786462| 8.071574051574174|\n",
      "|(41,[1,39,40],[1....|2003|    CHEVROLET|234000.0|7.003065458786462| 8.281197919979633|\n",
      "+--------------------+----+-------------+--------+-----------------+------------------+\n",
      "only showing top 5 rows\n",
      "\n"
     ]
    }
   ],
   "source": [
    "#Take a look at the other columns\n",
    "predDF.select(\"features\", \"year\", \"manufacturer\", \"odometer\", \"pricelog\", \"prediction\").show(5)"
   ]
  },
  {
   "cell_type": "markdown",
   "metadata": {},
   "source": [
    "To compare actual price instead of log price convert back to real price"
   ]
  },
  {
   "cell_type": "code",
   "execution_count": 31,
   "metadata": {},
   "outputs": [
    {
     "name": "stdout",
     "output_type": "stream",
     "text": [
      "+----+-------------+--------+---------------+-------------------+\n",
      "|year| manufacturer|odometer|round(price, 0)|round(predprice, 0)|\n",
      "+----+-------------+--------+---------------+-------------------+\n",
      "|2016|MERCEDES-BENZ| 17046.0|         1051.0|            32323.0|\n",
      "|1997|        HONDA|217005.0|         1100.0|             2150.0|\n",
      "|1999|         AUDI|195000.0|         1100.0|             3766.0|\n",
      "|2002|       NISSAN|181180.0|         1100.0|             3202.0|\n",
      "|2003|    CHEVROLET|234000.0|         1100.0|             3949.0|\n",
      "|2004|   MITSUBISHI|170000.0|         1100.0|             3507.0|\n",
      "|2008|       SATURN|126000.0|         1100.0|             5275.0|\n",
      "|2005|       NISSAN|172872.0|         1150.0|             4136.0|\n",
      "|1996|         FORD|197000.0|         1200.0|             2878.0|\n",
      "|1996|      PONTIAC|110000.0|         1200.0|             2849.0|\n",
      "|1996|       SATURN|200000.0|         1200.0|             1563.0|\n",
      "|1997|    CHEVROLET|200000.0|         1200.0|             3005.0|\n",
      "|1997|        DODGE|226824.0|         1200.0|             2097.0|\n",
      "|1998|    CHEVROLET|213000.0|         1200.0|             3038.0|\n",
      "|1998|         FORD|277000.0|         1200.0|             2280.0|\n",
      "+----+-------------+--------+---------------+-------------------+\n",
      "only showing top 15 rows\n",
      "\n"
     ]
    }
   ],
   "source": [
    "check = predDF.withColumn(\"price\", exp(\"pricelog\")).withColumn(\"predprice\", exp(\"prediction\"))\n",
    "check.select(\"year\", \"manufacturer\", \"odometer\", round(\"price\"), round(\"predprice\")).show(15)\n"
   ]
  },
  {
   "cell_type": "markdown",
   "metadata": {},
   "source": [
    "<font color=black>Return to \n",
    "[Table of Contents](#table-of-contents)</font>"
   ]
  },
  {
   "cell_type": "markdown",
   "metadata": {},
   "source": [
    "### <font color='blue'>4.2.4 Evaluation <a class=\"anchor\" name=\"mod1-evaluation\"></a></font>"
   ]
  },
  {
   "cell_type": "markdown",
   "metadata": {},
   "source": [
    "Root Mean Square Error (RMSE) and R squared (R2) will be used to evaluate the model performance."
   ]
  },
  {
   "cell_type": "markdown",
   "metadata": {},
   "source": [
    "#### <font color='blue'>4.2.4.1 Root Mean Square Error (RMSE) <a class=\"anchor\" name=\"mod1-rmse\"></a></font>"
   ]
  },
  {
   "cell_type": "markdown",
   "metadata": {},
   "source": [
    "RMSE is a metric that ranges from zero to infinity.  The closer it is to zero the better."
   ]
  },
  {
   "cell_type": "code",
   "execution_count": 32,
   "metadata": {},
   "outputs": [
    {
     "name": "stdout",
     "output_type": "stream",
     "text": [
      "Model 1 RMSE is 0.44037\n"
     ]
    }
   ],
   "source": [
    "#Evaluate the model using RMSE\n",
    "regressionEvaluator = RegressionEvaluator(\n",
    " predictionCol=\"prediction\",\n",
    " labelCol=\"pricelog\",\n",
    " metricName=\"rmse\")\n",
    "mod1rmse = regressionEvaluator.evaluate(predDF)\n",
    "print(f\"Model 1 RMSE is {mod1rmse:.5f}\")\n"
   ]
  },
  {
   "cell_type": "markdown",
   "metadata": {},
   "source": [
    "In order to interpret this value we need to build a simple baseline model and compute its RMSE to compare against. \n",
    "A very simple yet natural baseline model is one where we always make the same prediction independent of the given data point, using the average label in the training set as the constant prediction value. The average logprice for the training set first needs to be calculated."
   ]
  },
  {
   "cell_type": "code",
   "execution_count": 33,
   "metadata": {},
   "outputs": [
    {
     "name": "stdout",
     "output_type": "stream",
     "text": [
      "Average pricelog for training dataset is 9.58274\n"
     ]
    }
   ],
   "source": [
    "#compute the average pricelog for the training dataset\n",
    "mod1avg = trainDF.select(avg(\"pricelog\")).collect()[0][0]\n",
    "print(f\"Average pricelog for training dataset is {mod1avg:.5f}\")"
   ]
  },
  {
   "cell_type": "markdown",
   "metadata": {},
   "source": [
    "Now need to see how well this naive baseline performs. First implement a function to compute RMSE given an RDD of (label, prediction) tuples (databricks, n.d.)."
   ]
  },
  {
   "cell_type": "code",
   "execution_count": 34,
   "metadata": {},
   "outputs": [],
   "source": [
    "#Create a function to calculate the RMSE for an RDD of (label, prediction) tuples\n",
    "def squaredError(label, prediction):\n",
    "    \"\"\"Calculates the squared error for a single prediction.\n",
    "\n",
    "    Args:\n",
    "        label (float): The correct value for this observation.\n",
    "        prediction (float): The predicted value for this observation.\n",
    "\n",
    "    Returns:\n",
    "        float: The difference between the `label` and `prediction` squared.\n",
    "    \"\"\"\n",
    "    return (prediction-label)**2\n",
    "\n",
    "def calcRMSE(labelsAndPreds):\n",
    "    from math import sqrt\n",
    "    \"\"\"Calculates the root mean squared error for an `RDD` of (label, prediction) tuples.\n",
    "\n",
    "    Args:\n",
    "        labelsAndPred (RDD of (float, float)): An `RDD` consisting of (label, prediction) tuples.\n",
    "\n",
    "    Returns:\n",
    "        float: The square root of the mean of the squared errors.\n",
    "    \"\"\"\n",
    "    return sqrt(labelsAndPreds.map(lambda x: squaredError(*x)).mean())\n"
   ]
  },
  {
   "cell_type": "markdown",
   "metadata": {},
   "source": [
    "Now calculate the training and test RMSE of our baseline model. To do this, first create RDDs of (label, prediction) tuples for each dataset, and then call calcRMSE. Note that each RMSE can be interpreted as the average prediction error for the given dataset (in terms of price)."
   ]
  },
  {
   "cell_type": "code",
   "execution_count": 35,
   "metadata": {},
   "outputs": [
    {
     "name": "stdout",
     "output_type": "stream",
     "text": [
      "Baseline Train RMSE = 0.77300\n",
      "Baseline Test RMSE = 0.76532\n",
      "Compare this with...\n",
      "Model 1 RMSE = 0.44037\n"
     ]
    }
   ],
   "source": [
    "#First convert Pyspark dataframes to RDDs\n",
    "trainrdd=trainDF.rdd\n",
    "testrdd=testDF.rdd\n",
    "\n",
    "#create RDDs of (label, prediction) tuples for training dataset\n",
    "labelsAndPredsTrain = trainrdd.map(lambda x: (x.pricelog, mod1avg))\n",
    "\n",
    "#call calcRMSE\n",
    "rmseTrainBase = calcRMSE(labelsAndPredsTrain)\n",
    "\n",
    "#create RDDs of (label, prediction) tuples for test dataset\n",
    "labelsAndPredsTest = testrdd.map(lambda x: (x.pricelog, mod1avg))\n",
    "\n",
    "##call calcRMSE\n",
    "rmseTestBase = calcRMSE(labelsAndPredsTest)\n",
    "\n",
    "print('Baseline Train RMSE = {0:.5f}'.format(rmseTrainBase))\n",
    "print('Baseline Test RMSE = {0:.5f}'.format(rmseTestBase))\n",
    "print(\"Compare this with...\")\n",
    "print(f\"Model 1 RMSE = {mod1rmse:.5f}\")"
   ]
  },
  {
   "cell_type": "markdown",
   "metadata": {},
   "source": [
    "Our model (RSME = 0.440) beat the baseline of 0.773 so yay!"
   ]
  },
  {
   "cell_type": "markdown",
   "metadata": {},
   "source": [
    "<font color=black>Return to \n",
    "[Table of Contents](#table-of-contents)</font>"
   ]
  },
  {
   "cell_type": "markdown",
   "metadata": {},
   "source": [
    "#### <font color='blue'>4.2.4.2 R squared (R2) Error <a class=\"anchor\" name=\"mod1-r2\"></a></font>"
   ]
  },
  {
   "cell_type": "markdown",
   "metadata": {},
   "source": [
    "Another option for evaluating the model is to use R2."
   ]
  },
  {
   "cell_type": "code",
   "execution_count": 36,
   "metadata": {},
   "outputs": [
    {
     "name": "stdout",
     "output_type": "stream",
     "text": [
      "Model 1 R2 is 0.66890\n"
     ]
    }
   ],
   "source": [
    "# Evaluate using R2\n",
    "mod1r2 = regressionEvaluator.setMetricName(\"r2\").evaluate(predDF)\n",
    "print(f\"Model 1 R2 is {mod1r2:.5f}\")\n"
   ]
  },
  {
   "cell_type": "markdown",
   "metadata": {},
   "source": [
    "If the model perfectly predicts every point it would have an R2 values of 1 and a model that is not performing well has a value closer to 0.  This model has an R2 value = 0.67"
   ]
  },
  {
   "cell_type": "markdown",
   "metadata": {},
   "source": [
    "<font color=black>Return to \n",
    "[Table of Contents](#table-of-contents)</font>"
   ]
  },
  {
   "cell_type": "markdown",
   "metadata": {},
   "source": [
    "#### <font color='blue'>4.2.4.3 Plot results<a class=\"anchor\" name=\"mod1-plot\"></a></font>"
   ]
  },
  {
   "cell_type": "code",
   "execution_count": 37,
   "metadata": {},
   "outputs": [
    {
     "data": {
      "text/plain": [
       "<AxesSubplot:title={'center':'Model 1: Predicted Price vs Price'}, xlabel='price', ylabel='predprice'>"
      ]
     },
     "execution_count": 37,
     "metadata": {},
     "output_type": "execute_result"
    },
    {
     "data": {
      "image/png": "[encoded data removed]",
      "text/plain": [
       "<Figure size 432x288 with 2 Axes>"
      ]
     },
     "metadata": {
      "needs_background": "light"
     },
     "output_type": "display_data"
    }
   ],
   "source": [
    "#Create a pandas dataframe for plotting\n",
    "df = check.select(\"price\", \"predprice\", \"odometer\").toPandas()\n",
    "\n",
    "#Plot predprice vs price on a scatter graph\n",
    "fig, ax = plt.subplots()\n",
    "plt.title('Model 1: Predicted Price vs Price')\n",
    "df.plot(kind=\"scatter\", x=\"price\", y=\"predprice\", s=1, c=\"odometer\", cmap=\"plasma\", ax=ax)"
   ]
  },
  {
   "cell_type": "markdown",
   "metadata": {},
   "source": [
    "A perfect model would be a perfectly straight line.  This model has quite a large spread in points."
   ]
  },
  {
   "cell_type": "markdown",
   "metadata": {},
   "source": [
    "<font color=black>Return to \n",
    "[Table of Contents](#table-of-contents)</font>"
   ]
  },
  {
   "cell_type": "markdown",
   "metadata": {},
   "source": [
    "## <font color='green'>4.3 Model 2 - Develop Simple Model using scaled variables <a class=\"anchor\" name=\"mod2\"></a></font>\n"
   ]
  },
  {
   "cell_type": "markdown",
   "metadata": {},
   "source": [
    "Model 2 is second attempt at creating a simple regression model this time using the scaled numeric values (year_scaled, and odometer_scaled).  Default hyperparameters will be used so no hyperparameter tuning will be carried out on model 2."
   ]
  },
  {
   "cell_type": "markdown",
   "metadata": {},
   "source": [
    "<font color=black>Return to \n",
    "[Table of Contents](#table-of-contents)</font>"
   ]
  },
  {
   "cell_type": "markdown",
   "metadata": {},
   "source": [
    "### <font color='green'>4.3.1 Data Preparation <a class=\"anchor\" name=\"mod2-dataprep\"></a></font>"
   ]
  },
  {
   "cell_type": "code",
   "execution_count": 38,
   "metadata": {},
   "outputs": [
    {
     "name": "stdout",
     "output_type": "stream",
     "text": [
      "+------------------+----+--------------------+------------+--------+--------------------+\n",
      "|          pricelog|year|         year_scaled|manufacturer|odometer|     odometer_scaled|\n",
      "+------------------+----+--------------------+------------+--------+--------------------+\n",
      "| 9.104424146384634|2013|[0.7391304347826086]|        FORD|150000.0|[0.4991652698849408]|\n",
      "| 9.210340371976184|2010|[0.6086956521739131]|      TOYOTA|105000.0| [0.348913849174285]|\n",
      "| 8.852950887099581|2008|[0.5217391304347826]|      TOYOTA|183205.0|[0.6100341237671036]|\n",
      "| 10.36059589379613|2018|[0.9565217391304348]|  ALFA-ROMEO| 21415.0|[0.06983018250539...|\n",
      "|10.085767441795337|2014|[0.7826086956521738]|   CHEVROLET| 94860.0|[0.31505719570748...|\n",
      "+------------------+----+--------------------+------------+--------+--------------------+\n",
      "only showing top 5 rows\n",
      "\n"
     ]
    }
   ],
   "source": [
    "#Select required attributes for mod2 and take a look\n",
    "mod2 = vehicles.select(\"pricelog\", \"year\", \"year_scaled\", \"manufacturer\", \"odometer\", \"odometer_scaled\")\n",
    "mod2.show(5)"
   ]
  },
  {
   "cell_type": "markdown",
   "metadata": {},
   "source": [
    "<font color=black>Return to \n",
    "[Table of Contents](#table-of-contents)</font>"
   ]
  },
  {
   "cell_type": "markdown",
   "metadata": {},
   "source": [
    "### <font color='green'>4.3.2 Train-Test Split <a class=\"anchor\" name=\"mod2-train-test-split\"></a></font>"
   ]
  },
  {
   "cell_type": "markdown",
   "metadata": {},
   "source": [
    "Split the data into train and test sets"
   ]
  },
  {
   "cell_type": "code",
   "execution_count": 39,
   "metadata": {},
   "outputs": [
    {
     "name": "stdout",
     "output_type": "stream",
     "text": [
      "There are 175126 rows in the training set, \n",
      "and 43801 in the test set\n"
     ]
    }
   ],
   "source": [
    "#Split the data and check the row numbers\n",
    "trainDF, testDF = mod2.randomSplit([.8, .2], seed=42)\n",
    "print(f\"\"\"There are {trainDF.count()} rows in the training set, \n",
    "and {testDF.count()} in the test set\"\"\")\n"
   ]
  },
  {
   "cell_type": "markdown",
   "metadata": {},
   "source": [
    "<font color=black>Return to \n",
    "[Table of Contents](#table-of-contents)</font>"
   ]
  },
  {
   "cell_type": "markdown",
   "metadata": {},
   "source": [
    "### <font color='green'>4.3.3 Model Building <a class=\"anchor\" name=\"mod2-model-building\"></a></font>"
   ]
  },
  {
   "cell_type": "markdown",
   "metadata": {},
   "source": [
    "First transform the data into a single vector using VectorAssembler which takes a list of input columns and creates a new dataframe with an additional column, called features.  VectorAssembler combines the values of those input columns into a single vector.\n",
    "\n",
    "The categorical values need to be first mapped into numeric values by applying StringIndexer (which converts categorical values into category indexes) then pass these inputs to the OneHotEncoder which maps a column of category indices to a column of binary vectors."
   ]
  },
  {
   "cell_type": "code",
   "execution_count": 40,
   "metadata": {},
   "outputs": [],
   "source": [
    "#Define the categorical and numeric columns\n",
    "categoricalCols = ['manufacturer']\n",
    "numericCols = ['year_scaled', 'odometer_scaled']\n",
    "\n",
    "#Define column names for index output columns and ohe output\n",
    "indexOutputCols = [x + \"Index\" for x in categoricalCols]\n",
    "oheOutputCols = [x + \"OHE\" for x in categoricalCols]\n",
    "\n",
    "#apply string indexer and ohe\n",
    "stringIndexer = StringIndexer(inputCols=categoricalCols, outputCols=indexOutputCols, handleInvalid=\"skip\")\n",
    "oheEncoder = OneHotEncoder(inputCols=indexOutputCols, outputCols=oheOutputCols)\n",
    "\n",
    "#Define the vector assembler inputs (ohe and numeric columns)\n",
    "assemblerInputs = oheOutputCols + numericCols\n",
    "\n",
    "#Run the vector assembler\n",
    "vecAssembler = VectorAssembler(inputCols=assemblerInputs, outputCol=\"features\")"
   ]
  },
  {
   "cell_type": "markdown",
   "metadata": {},
   "source": [
    "In order to apply our model to our test set, need to prepare the test data in the same way as the training set so setup the stages in a pipeline."
   ]
  },
  {
   "cell_type": "code",
   "execution_count": 41,
   "metadata": {},
   "outputs": [
    {
     "name": "stdout",
     "output_type": "stream",
     "text": [
      "+--------------------+-----------------+------------------+\n",
      "|            features|         pricelog|        prediction|\n",
      "+--------------------+-----------------+------------------+\n",
      "|(41,[8,39,40],[1....|6.957497370876951|10.383523316826683|\n",
      "|(41,[3,39,40],[1....|7.003065458786462| 7.673159011553483|\n",
      "|(41,[15,39,40],[1...|7.003065458786462| 8.233746201976851|\n",
      "|(41,[5,39,40],[1....|7.003065458786462| 8.071574051601024|\n",
      "|(41,[1,39,40],[1....|7.003065458786462| 8.281197919985381|\n",
      "+--------------------+-----------------+------------------+\n",
      "only showing top 5 rows\n",
      "\n"
     ]
    }
   ],
   "source": [
    "#Define the linear regression\n",
    "lr = LinearRegression(labelCol=\"pricelog\", featuresCol=\"features\")\n",
    "\n",
    "#build the pipeline\n",
    "pipeline = Pipeline(stages = [stringIndexer, oheEncoder, vecAssembler, lr])\n",
    "\n",
    "#apply the pipeline to the training dataset\n",
    "pipelineModel = pipeline.fit(trainDF)\n",
    "\n",
    "#apply the pipeline to the test dataset\n",
    "predDF = pipelineModel.transform(testDF)\n",
    "\n",
    "#take a sample and look\n",
    "predDF.select(\"features\", \"pricelog\", \"prediction\").show(5)"
   ]
  },
  {
   "cell_type": "markdown",
   "metadata": {},
   "source": [
    "The features column is represented as a SparseVector. There are 41\n",
    "features after one-hot encoding, followed by the nonzero indices and then the values\n",
    "themselves."
   ]
  },
  {
   "cell_type": "code",
   "execution_count": 42,
   "metadata": {},
   "outputs": [
    {
     "name": "stdout",
     "output_type": "stream",
     "text": [
      "+--------------------+----+--------------------+-------------+--------------------+-----------------+------------------+\n",
      "|            features|year|         year_scaled| manufacturer|     odometer_scaled|         pricelog|        prediction|\n",
      "+--------------------+----+--------------------+-------------+--------------------+-----------------+------------------+\n",
      "|(41,[8,39,40],[1....|2016|[0.8695652173913043]|MERCEDES-BENZ|[0.05524243901461...|6.957497370876951|10.383523316826683|\n",
      "|(41,[3,39,40],[1....|1997|[0.04347826086956...|        HONDA|[0.7228896353231073]|7.003065458786462| 7.673159011553483|\n",
      "|(41,[15,39,40],[1...|1999|[0.13043478260869...|         AUDI|[0.6494166905955966]|7.003065458786462| 8.233746201976851|\n",
      "|(41,[5,39,40],[1....|2002|[0.2608695652173913]|       NISSAN|[0.6032728098351241]|7.003065458786462| 8.071574051601024|\n",
      "|(41,[1,39,40],[1....|2003|[0.30434782608695...|    CHEVROLET|[0.7796345885448317]|7.003065458786462| 8.281197919985381|\n",
      "+--------------------+----+--------------------+-------------+--------------------+-----------------+------------------+\n",
      "only showing top 5 rows\n",
      "\n"
     ]
    }
   ],
   "source": [
    "#Take a look at the other columns\n",
    "predDF.select(\"features\", \"year\", \"year_scaled\", \"manufacturer\", \"odometer_scaled\", \"pricelog\", \"prediction\").show(5)"
   ]
  },
  {
   "cell_type": "markdown",
   "metadata": {},
   "source": [
    "To compare actual price instead of log price convert back to real price"
   ]
  },
  {
   "cell_type": "code",
   "execution_count": 43,
   "metadata": {},
   "outputs": [
    {
     "name": "stdout",
     "output_type": "stream",
     "text": [
      "+----+--------------------+-------------+--------+--------------------+---------------+-------------------+\n",
      "|year|         year_scaled| manufacturer|odometer|     odometer_scaled|round(price, 0)|round(predprice, 0)|\n",
      "+----+--------------------+-------------+--------+--------------------+---------------+-------------------+\n",
      "|2016|[0.8695652173913043]|MERCEDES-BENZ| 17046.0|[0.05524243901461...|         1051.0|            32323.0|\n",
      "|1997|[0.04347826086956...|        HONDA|217005.0|[0.7228896353231073]|         1100.0|             2150.0|\n",
      "|1999|[0.13043478260869...|         AUDI|195000.0|[0.6494166905955966]|         1100.0|             3766.0|\n",
      "|2002|[0.2608695652173913]|       NISSAN|181180.0|[0.6032728098351241]|         1100.0|             3202.0|\n",
      "|2003|[0.30434782608695...|    CHEVROLET|234000.0|[0.7796345885448317]|         1100.0|             3949.0|\n",
      "|2004|[0.34782608695652...|   MITSUBISHI|170000.0|[0.5659436790896767]|         1100.0|             3507.0|\n",
      "|2008|[0.5217391304347826]|       SATURN|126000.0|[0.41903117883925...|         1100.0|             5275.0|\n",
      "|2005|[0.3913043478260869]|       NISSAN|172872.0|[0.5755330586514767]|         1150.0|             4136.0|\n",
      "|1996|               [0.0]|         FORD|197000.0|[0.6560945315160702]|         1200.0|             2878.0|\n",
      "|1996|               [0.0]|      PONTIAC|110000.0|[0.36560845147546...|         1200.0|             2849.0|\n",
      "|1996|               [0.0]|       SATURN|200000.0|[0.6661112928967806]|         1200.0|             1563.0|\n",
      "|1997|[0.04347826086956...|    CHEVROLET|200000.0|[0.6661112928967806]|         1200.0|             3005.0|\n",
      "|1997|[0.04347826086956...|        DODGE|226824.0|[0.7556744953221725]|         1200.0|             2097.0|\n",
      "|1998|[0.08695652173913...|    CHEVROLET|213000.0| [0.709517258879859]|         1200.0|             3038.0|\n",
      "|1998|[0.08695652173913...|         FORD|277000.0|[0.9232081683350138]|         1200.0|             2280.0|\n",
      "+----+--------------------+-------------+--------+--------------------+---------------+-------------------+\n",
      "only showing top 15 rows\n",
      "\n"
     ]
    }
   ],
   "source": [
    "check = predDF.withColumn(\"price\", exp(\"pricelog\")).withColumn(\"predprice\", exp(\"prediction\"))\n",
    "check.select(\"year\", \"year_scaled\", \"manufacturer\", \"odometer\", \"odometer_scaled\", round(\"price\"), round(\"predprice\")).show(15)\n"
   ]
  },
  {
   "cell_type": "markdown",
   "metadata": {},
   "source": [
    "<font color=black>Return to \n",
    "[Table of Contents](#table-of-contents)</font>"
   ]
  },
  {
   "cell_type": "markdown",
   "metadata": {},
   "source": [
    "### <font color='green'>4.3.4 Evaluation <a class=\"anchor\" name=\"mod2-evaluation\"></a></font>"
   ]
  },
  {
   "cell_type": "markdown",
   "metadata": {},
   "source": [
    "Root Mean Square Error (RMSE) and R squared (R2) will be used to evaluate the model performance."
   ]
  },
  {
   "cell_type": "markdown",
   "metadata": {},
   "source": [
    "#### <font color='green'>4.3.4.1 Root Mean Square Error (RMSE) <a class=\"anchor\" name=\"mod2-rmse\"></a></font>"
   ]
  },
  {
   "cell_type": "markdown",
   "metadata": {},
   "source": [
    "RMSE is a metric that ranges from zero to infinity.  The closer it is to zero the better."
   ]
  },
  {
   "cell_type": "code",
   "execution_count": 44,
   "metadata": {},
   "outputs": [
    {
     "name": "stdout",
     "output_type": "stream",
     "text": [
      "Model 2 RMSE is 0.44037\n",
      "Compare this with...\n",
      "Model 1 RMSE is 0.44037\n"
     ]
    }
   ],
   "source": [
    "#Evaluate the model using RMSE\n",
    "regressionEvaluator = RegressionEvaluator(\n",
    " predictionCol=\"prediction\",\n",
    " labelCol=\"pricelog\",\n",
    " metricName=\"rmse\")\n",
    "mod2rmse = regressionEvaluator.evaluate(predDF)\n",
    "print(f\"Model 2 RMSE is {mod2rmse:.5f}\")\n",
    "print(\"Compare this with...\")\n",
    "print(f\"Model 1 RMSE is {mod1rmse:.5f}\")\n"
   ]
  },
  {
   "cell_type": "markdown",
   "metadata": {},
   "source": [
    "Check performance by creating simple baseline model using average pricelog."
   ]
  },
  {
   "cell_type": "code",
   "execution_count": 45,
   "metadata": {},
   "outputs": [
    {
     "name": "stdout",
     "output_type": "stream",
     "text": [
      "Average pricelog for training dataset is 9.58274\n"
     ]
    }
   ],
   "source": [
    "#compute the average pricelog for the training dataset\n",
    "mod2avg = trainDF.select(avg(\"pricelog\")).collect()[0][0]\n",
    "print(f\"Average pricelog for training dataset is {mod2avg:.5f}\")\n",
    "      "
   ]
  },
  {
   "cell_type": "markdown",
   "metadata": {},
   "source": [
    "See how well this naive baseline performs.  Calculate the training and test RMSE of our baseline model. To do this, first create RDDs of (label, prediction) tuples for each dataset, and then call calcRMSE. Note that each RMSE can be interpreted as the average prediction error for the given dataset (in terms of price)."
   ]
  },
  {
   "cell_type": "code",
   "execution_count": 46,
   "metadata": {},
   "outputs": [
    {
     "name": "stdout",
     "output_type": "stream",
     "text": [
      "Baseline Train RMSE = 0.77300\n",
      "Baseline Test RMSE = 0.76532\n",
      "Compare this with...\n",
      "Model 2 RMSE = 0.44037\n",
      "and...\n",
      "Model 1 RMSE = 0.44037\n"
     ]
    }
   ],
   "source": [
    "#First convert Pyspark dataframes to RDDs\n",
    "trainrdd=trainDF.rdd\n",
    "testrdd=testDF.rdd\n",
    "\n",
    "#create RDDs of (label, prediction) tuples for training dataset\n",
    "labelsAndPredsTrain = trainrdd.map(lambda x: (x.pricelog, mod2avg))\n",
    "\n",
    "#call calcRMSE\n",
    "rmseTrainBase = calcRMSE(labelsAndPredsTrain)\n",
    "\n",
    "#create RDDs of (label, prediction) tuples for test dataset\n",
    "labelsAndPredsTest = testrdd.map(lambda x: (x.pricelog, mod2avg))\n",
    "\n",
    "##call calcRMSE\n",
    "rmseTestBase = calcRMSE(labelsAndPredsTest)\n",
    "\n",
    "print('Baseline Train RMSE = {0:.5f}'.format(rmseTrainBase))\n",
    "print('Baseline Test RMSE = {0:.5f}'.format(rmseTestBase))\n",
    "print(\"Compare this with...\")\n",
    "print(f\"Model 2 RMSE = {mod2rmse:.5f}\")\n",
    "print(\"and...\")\n",
    "print(f\"Model 1 RMSE = {mod1rmse:.5f}\")"
   ]
  },
  {
   "cell_type": "markdown",
   "metadata": {},
   "source": [
    "Our model (RSME = 0.440) beat the baseline of 0.773 so yay!"
   ]
  },
  {
   "cell_type": "markdown",
   "metadata": {},
   "source": [
    "<font color=black>Return to \n",
    "[Table of Contents](#table-of-contents)</font>"
   ]
  },
  {
   "cell_type": "markdown",
   "metadata": {},
   "source": [
    "#### <font color='green'>4.3.4.2 R Squared Error (R2) <a class=\"anchor\" name=\"mod2-r2\"></a></font>"
   ]
  },
  {
   "cell_type": "markdown",
   "metadata": {},
   "source": [
    "Another option for evaluating the model is to use R2."
   ]
  },
  {
   "cell_type": "code",
   "execution_count": 47,
   "metadata": {},
   "outputs": [
    {
     "name": "stdout",
     "output_type": "stream",
     "text": [
      "Model 2 R2 is 0.66890\n",
      "Compare this with..\n",
      "Model 1 R2 is 0.66890\n"
     ]
    }
   ],
   "source": [
    "# Evaluate using R2\n",
    "mod2r2 = regressionEvaluator.setMetricName(\"r2\").evaluate(predDF)\n",
    "print(f\"Model 2 R2 is {mod2r2:.5f}\")\n",
    "print(\"Compare this with..\")\n",
    "print(f\"Model 1 R2 is {mod1r2:.5f}\")\n"
   ]
  },
  {
   "cell_type": "markdown",
   "metadata": {},
   "source": [
    "Model 2 is performing better than Model 1 using the scaled variables."
   ]
  },
  {
   "cell_type": "markdown",
   "metadata": {},
   "source": [
    "<font color=black>Return to \n",
    "[Table of Contents](#table-of-contents)</font>"
   ]
  },
  {
   "cell_type": "markdown",
   "metadata": {},
   "source": [
    "#### <font color='green'>4.3.4.3 Plot results<a class=\"anchor\" name=\"mod2-plot\"></a></font>"
   ]
  },
  {
   "cell_type": "code",
   "execution_count": 48,
   "metadata": {},
   "outputs": [
    {
     "data": {
      "text/plain": [
       "<AxesSubplot:title={'center':'Model 2: Predicted Price vs Price'}, xlabel='price', ylabel='predprice'>"
      ]
     },
     "execution_count": 48,
     "metadata": {},
     "output_type": "execute_result"
    },
    {
     "data": {
      "image/png": "[encoded data removed]",
      "text/plain": [
       "<Figure size 432x288 with 2 Axes>"
      ]
     },
     "metadata": {
      "needs_background": "light"
     },
     "output_type": "display_data"
    }
   ],
   "source": [
    "#Create a pandas dataframe for plotting\n",
    "df = check.select(\"price\", \"predprice\", \"odometer\").toPandas()\n",
    "\n",
    "#Plot predprice vs price on a scatter graph\n",
    "fig, ax = plt.subplots()\n",
    "plt.title('Model 2: Predicted Price vs Price')\n",
    "df.plot(kind=\"scatter\", x=\"price\", y=\"predprice\", s=1, c=\"odometer\", cmap=\"plasma\", ax=ax)"
   ]
  },
  {
   "cell_type": "markdown",
   "metadata": {},
   "source": [
    "A perfect model would be a perfectly straight line.  This model has quite a large spread in points."
   ]
  },
  {
   "cell_type": "markdown",
   "metadata": {},
   "source": [
    "<font color=black>Return to \n",
    "[Table of Contents](#table-of-contents)</font>"
   ]
  },
  {
   "cell_type": "markdown",
   "metadata": {},
   "source": [
    "## <font color='grey'>4.4 Model 3 - Develop More Complex Model (maximising rows) <a class=\"anchor\" name=\"mod3\"></a></font>\n"
   ]
  },
  {
   "cell_type": "markdown",
   "metadata": {},
   "source": [
    "Model 3 is a more complex model using all of the available attributes which do not contain null values."
   ]
  },
  {
   "cell_type": "markdown",
   "metadata": {},
   "source": [
    "### <font color='grey'>4.4.1 Data Preparation <a class=\"anchor\" name=\"mod3-dataprep\"></a></font>"
   ]
  },
  {
   "cell_type": "code",
   "execution_count": 49,
   "metadata": {},
   "outputs": [
    {
     "name": "stdout",
     "output_type": "stream",
     "text": [
      "+-----------------+----+--------------------+------------+------------+----+--------+--------------------+------------+----+-----+\n",
      "|         pricelog|year|         year_scaled|manufacturer|       model|fuel|odometer|     odometer_scaled|transmission|type|state|\n",
      "+-----------------+----+--------------------+------------+------------+----+--------+--------------------+------------+----+-----+\n",
      "|9.104424146384634|2013|[0.7391304347826086]|        FORD|EXPLORER 4X4| GAS|150000.0|[0.4991652698849408]|   AUTOMATIC| SUV|   CT|\n",
      "|9.210340371976184|2010|[0.6086956521739131]|      TOYOTA|        RAV4| GAS|105000.0| [0.348913849174285]|   AUTOMATIC| SUV|   DE|\n",
      "+-----------------+----+--------------------+------------+------------+----+--------+--------------------+------------+----+-----+\n",
      "only showing top 2 rows\n",
      "\n"
     ]
    }
   ],
   "source": [
    "#Select required attributes for mod3 and take a look\n",
    "mod3 = vehicles.select(\"pricelog\", \"year\", \"year_scaled\", \"manufacturer\", \"model\", \"fuel\", \"odometer\", \"odometer_scaled\", \"transmission\", \"type\", \"state\")\n",
    "mod3.show(2)"
   ]
  },
  {
   "cell_type": "markdown",
   "metadata": {},
   "source": [
    "<font color=black>Return to \n",
    "[Table of Contents](#table-of-contents)</font>"
   ]
  },
  {
   "cell_type": "markdown",
   "metadata": {},
   "source": [
    "### <font color='grey'>4.4.2 Train-Test Split <a class=\"anchor\" name=\"mod3-train-test-split\"></a></font>"
   ]
  },
  {
   "cell_type": "code",
   "execution_count": 50,
   "metadata": {},
   "outputs": [
    {
     "name": "stdout",
     "output_type": "stream",
     "text": [
      "There are 175126 rows in the training set, \n",
      "and 43801 in the test set\n"
     ]
    }
   ],
   "source": [
    "#split the data into train and test and check number of rows\n",
    "trainDF, testDF = mod3.randomSplit([.8, .2], seed=42)\n",
    "print(f\"\"\"There are {trainDF.count()} rows in the training set, \n",
    "and {testDF.count()} in the test set\"\"\")\n"
   ]
  },
  {
   "cell_type": "markdown",
   "metadata": {},
   "source": [
    "<font color=black>Return to \n",
    "[Table of Contents](#table-of-contents)</font>"
   ]
  },
  {
   "cell_type": "markdown",
   "metadata": {},
   "source": [
    "### <font color='grey'>4.4.3 Model Building <a class=\"anchor\" name=\"mod3-model-building\"></a></font>"
   ]
  },
  {
   "cell_type": "markdown",
   "metadata": {},
   "source": [
    "First transform the data into a single vector using VectorAssembler which takes a list of input columns and creates a new dataframe with an additional column, called features.  VectorAssembler combines the values of those input columns into a single vector.\n",
    "\n",
    "The categorical values need to be first mapped into numeric values by applying StringIndexer (which converts categorical values into category indexes) then pass these inputs to the OneHotEncoder which maps a column of category indices to a column of binary vectors."
   ]
  },
  {
   "cell_type": "code",
   "execution_count": 51,
   "metadata": {},
   "outputs": [],
   "source": [
    "#Define the categorical and numeric columns\n",
    "categoricalCols = ['manufacturer', 'model', 'fuel', 'transmission', 'type', 'state']\n",
    "numericCols = ['year_scaled', 'odometer_scaled']\n",
    "\n",
    "#Define column names for index output columns and ohe output\n",
    "indexOutputCols = [x + \"Index\" for x in categoricalCols]\n",
    "oheOutputCols = [x + \"OHE\" for x in categoricalCols]\n",
    "\n",
    "#apply string indexer and ohe\n",
    "stringIndexer = StringIndexer(inputCols=categoricalCols, outputCols=indexOutputCols, handleInvalid=\"skip\")\n",
    "oheEncoder = OneHotEncoder(inputCols=indexOutputCols, outputCols=oheOutputCols)\n",
    "\n",
    "#Define the vector assembler inputs (ohe and numeric columns)\n",
    "assemblerInputs = oheOutputCols + numericCols\n",
    "\n",
    "#Run the vector assembler\n",
    "vecAssembler = VectorAssembler(inputCols=assemblerInputs, outputCol=\"features\")"
   ]
  },
  {
   "cell_type": "markdown",
   "metadata": {},
   "source": [
    "In order to apply our model to our test set, need to prepare the test data in the same way as the training set so setup the stages in a pipeline."
   ]
  },
  {
   "cell_type": "code",
   "execution_count": 52,
   "metadata": {},
   "outputs": [
    {
     "name": "stdout",
     "output_type": "stream",
     "text": [
      "+--------------------+-----------------+-----------------+\n",
      "|            features|         pricelog|       prediction|\n",
      "+--------------------+-----------------+-----------------+\n",
      "|(12258,[3,60,1219...|7.003065458786462| 7.66513328975908|\n",
      "|(12258,[15,104,12...|7.003065458786462|7.865819222301518|\n",
      "|(12258,[5,137,121...|7.003065458786462|7.990743085136449|\n",
      "|(12258,[1,1358,12...|7.003065458786462|7.626881851084705|\n",
      "|(12258,[26,336,12...|7.003065458786462|8.007075907124197|\n",
      "+--------------------+-----------------+-----------------+\n",
      "only showing top 5 rows\n",
      "\n"
     ]
    }
   ],
   "source": [
    "#Define the linear regression\n",
    "lr = LinearRegression(labelCol=\"pricelog\", featuresCol=\"features\")\n",
    "\n",
    "#build the pipeline\n",
    "pipeline = Pipeline(stages = [stringIndexer, oheEncoder, vecAssembler, lr])\n",
    "\n",
    "#apply the pipeline to the training dataset\n",
    "pipelineModel = pipeline.fit(trainDF)\n",
    "\n",
    "#apply the pipeline to the test dataset\n",
    "predDF = pipelineModel.transform(testDF)\n",
    "\n",
    "#take a sample and look\n",
    "predDF.select(\"features\", \"pricelog\", \"prediction\").show(5)"
   ]
  },
  {
   "cell_type": "markdown",
   "metadata": {},
   "source": [
    "The features column is represented as a SparseVector. There are 12258\n",
    "features after one-hot encoding, followed by the nonzero indices and then the values\n",
    "themselves."
   ]
  },
  {
   "cell_type": "code",
   "execution_count": 53,
   "metadata": {},
   "outputs": [
    {
     "name": "stdout",
     "output_type": "stream",
     "text": [
      "+----+------------+----------------+----+--------+------------+---------+-----+-----------------+------------------+\n",
      "|year|manufacturer|           model|fuel|odometer|transmission|     type|state|         pricelog|        prediction|\n",
      "+----+------------+----------------+----+--------+------------+---------+-----+-----------------+------------------+\n",
      "|1997|       HONDA|         ODYSSEY| GAS|217005.0|   AUTOMATIC| MINI-VAN|   AZ|7.003065458786462|  7.66513328975908|\n",
      "|1999|        AUDI|              A4| GAS|195000.0|      MANUAL|    SEDAN|   FL|7.003065458786462| 7.865819222301518|\n",
      "|2002|      NISSAN|          MAXIMA| GAS|181180.0|   AUTOMATIC|    SEDAN|   MD|7.003065458786462| 7.990743085136449|\n",
      "|2003|   CHEVROLET|         VENTURE| GAS|234000.0|   AUTOMATIC| MINI-VAN|   OH|7.003065458786462| 7.626881851084705|\n",
      "|2004|  MITSUBISHI|          LANCER| GAS|170000.0|   AUTOMATIC|    SEDAN|   OH|7.003065458786462| 8.007075907124197|\n",
      "|2008|      SATURN|            AURA| GAS|126000.0|   AUTOMATIC|    SEDAN|   NY|7.003065458786462| 8.656490995910561|\n",
      "|2005|      NISSAN|      XTERRA 4X4| GAS|172872.0|   AUTOMATIC|      SUV|   OH|7.047517221357296| 8.474686673996887|\n",
      "|1996|        FORD|EXPLORER XLT AWD| GAS|197000.0|   AUTOMATIC|      SUV|   CA|7.090076835776092|7.7821144733241985|\n",
      "|1996|     PONTIAC|      GRAND PRIX| GAS|110000.0|   AUTOMATIC|    COUPE|   FL|7.090076835776092| 7.671750768139084|\n",
      "|1996|      SATURN|             SW2| GAS|200000.0|   AUTOMATIC|HATCHBACK|   IL|7.090076835776092| 7.636154136850443|\n",
      "+----+------------+----------------+----+--------+------------+---------+-----+-----------------+------------------+\n",
      "only showing top 10 rows\n",
      "\n"
     ]
    }
   ],
   "source": [
    "#Take a look at the other columns\n",
    "predDF.select(\"year\", \"manufacturer\", \"model\", \"fuel\", \"odometer\", \"transmission\", \"type\", \"state\", \"pricelog\", \"prediction\").show(10)"
   ]
  },
  {
   "cell_type": "markdown",
   "metadata": {},
   "source": [
    "To compare actual price instead of log price convert back to real price"
   ]
  },
  {
   "cell_type": "code",
   "execution_count": 54,
   "metadata": {},
   "outputs": [
    {
     "name": "stdout",
     "output_type": "stream",
     "text": [
      "+----+------------+----------------+----+--------+------------+---------+-----+---------------+-------------------+\n",
      "|year|manufacturer|           model|fuel|odometer|transmission|     type|state|round(price, 0)|round(predprice, 0)|\n",
      "+----+------------+----------------+----+--------+------------+---------+-----+---------------+-------------------+\n",
      "|1997|       HONDA|         ODYSSEY| GAS|217005.0|   AUTOMATIC| MINI-VAN|   AZ|         1100.0|             2133.0|\n",
      "|1999|        AUDI|              A4| GAS|195000.0|      MANUAL|    SEDAN|   FL|         1100.0|             2607.0|\n",
      "|2002|      NISSAN|          MAXIMA| GAS|181180.0|   AUTOMATIC|    SEDAN|   MD|         1100.0|             2953.0|\n",
      "|2003|   CHEVROLET|         VENTURE| GAS|234000.0|   AUTOMATIC| MINI-VAN|   OH|         1100.0|             2053.0|\n",
      "|2004|  MITSUBISHI|          LANCER| GAS|170000.0|   AUTOMATIC|    SEDAN|   OH|         1100.0|             3002.0|\n",
      "|2008|      SATURN|            AURA| GAS|126000.0|   AUTOMATIC|    SEDAN|   NY|         1100.0|             5747.0|\n",
      "|2005|      NISSAN|      XTERRA 4X4| GAS|172872.0|   AUTOMATIC|      SUV|   OH|         1150.0|             4792.0|\n",
      "|1996|        FORD|EXPLORER XLT AWD| GAS|197000.0|   AUTOMATIC|      SUV|   CA|         1200.0|             2397.0|\n",
      "|1996|     PONTIAC|      GRAND PRIX| GAS|110000.0|   AUTOMATIC|    COUPE|   FL|         1200.0|             2147.0|\n",
      "|1996|      SATURN|             SW2| GAS|200000.0|   AUTOMATIC|HATCHBACK|   IL|         1200.0|             2072.0|\n",
      "|1997|   CHEVROLET|           TAHOE| GAS|171235.0|   AUTOMATIC|      SUV|   VA|         1200.0|             4369.0|\n",
      "|1997|       DODGE|        INTREPID| GAS|150000.0|   AUTOMATIC|    SEDAN|   IA|         1200.0|             1367.0|\n",
      "|1998|   CHEVROLET|        SUBURBAN| GAS|213000.0|   AUTOMATIC|   PICKUP|   MA|         1200.0|             3788.0|\n",
      "|1998|        FORD|          TAURUS| GAS|202553.0|   AUTOMATIC|    SEDAN|   FL|         1200.0|             1752.0|\n",
      "|1999|      TOYOTA|           CAMRY| GAS|174675.0|   AUTOMATIC|    SEDAN|   DC|         1200.0|             2572.0|\n",
      "|2001|    CHRYSLER|      PT CRUISER| GAS|167000.0|   AUTOMATIC|HATCHBACK|   TN|         1200.0|             1915.0|\n",
      "|2003|       HONDA|         ODYSSEY| GAS|270000.0|   AUTOMATIC| MINI-VAN|   MD|         1200.0|             2478.0|\n",
      "|2004|       HONDA|          ACCORD| GAS|239000.0|   AUTOMATIC|    COUPE|   NY|         1200.0|             2939.0|\n",
      "|2004|       HONDA|           PILOT| GAS|151000.0|   AUTOMATIC|      SUV|   UT|         1200.0|             6236.0|\n",
      "|2004|    INFINITI|             I35| GAS|190000.0|   AUTOMATIC|    SEDAN|   SC|         1200.0|             3174.0|\n",
      "+----+------------+----------------+----+--------+------------+---------+-----+---------------+-------------------+\n",
      "only showing top 20 rows\n",
      "\n"
     ]
    }
   ],
   "source": [
    "check = predDF.withColumn(\"price\", exp(\"pricelog\")).withColumn(\"predprice\", exp(\"prediction\"))\n",
    "check.select(\"year\", \"manufacturer\", \"model\", \"fuel\", \"odometer\", \"transmission\", \"type\", \"state\", round(\"price\"), round(\"predprice\")).show(20)\n"
   ]
  },
  {
   "cell_type": "markdown",
   "metadata": {},
   "source": [
    "<font color=black>Return to \n",
    "[Table of Contents](#table-of-contents)</font>"
   ]
  },
  {
   "cell_type": "markdown",
   "metadata": {},
   "source": [
    "### <font color='grey'>4.4.4 Evaluation <a class=\"anchor\" name=\"mod3-evaluation\"></a></font>"
   ]
  },
  {
   "cell_type": "markdown",
   "metadata": {},
   "source": [
    "Root Mean Square Error (RMSE) and R squared (R2) will be used to evaluate the model performance"
   ]
  },
  {
   "cell_type": "markdown",
   "metadata": {},
   "source": [
    "#### <font color='grey'>4.4.4.1 Root Mean Square Error (RMSE) <a class=\"anchor\" name=\"mod3-rmse\"></a></font>"
   ]
  },
  {
   "cell_type": "markdown",
   "metadata": {},
   "source": [
    "\n",
    "RMSE is a metric that ranges from zero to infinity.  The closer it is to zero the better.\n"
   ]
  },
  {
   "cell_type": "code",
   "execution_count": 55,
   "metadata": {},
   "outputs": [
    {
     "name": "stdout",
     "output_type": "stream",
     "text": [
      "Model 3 RMSE is 0.24300\n",
      "compare this with...\n",
      "Model 1 RMSE is 0.44037\n",
      "Model 2 RMSE is 0.44037\n"
     ]
    }
   ],
   "source": [
    "#Evaluate the model using RMSE\n",
    "regressionEvaluator = RegressionEvaluator(\n",
    " predictionCol=\"prediction\",\n",
    " labelCol=\"pricelog\",\n",
    " metricName=\"rmse\")\n",
    "mod3rmse = regressionEvaluator.evaluate(predDF)\n",
    "print(f\"Model 3 RMSE is {mod3rmse:.5f}\")\n",
    "print(\"compare this with...\")\n",
    "print(f\"Model 1 RMSE is {mod1rmse:.5f}\")\n",
    "print(f\"Model 2 RMSE is {mod2rmse:.5f}\")\n"
   ]
  },
  {
   "cell_type": "markdown",
   "metadata": {},
   "source": [
    "Compare against baseline RMSE"
   ]
  },
  {
   "cell_type": "code",
   "execution_count": 56,
   "metadata": {},
   "outputs": [
    {
     "name": "stdout",
     "output_type": "stream",
     "text": [
      "9.582744234855577\n"
     ]
    }
   ],
   "source": [
    "#compute the average pricelog for the training dataset\n",
    "mod3avg = trainDF.select(avg(\"pricelog\")).collect()[0][0]\n",
    "print(mod3avg)\n"
   ]
  },
  {
   "cell_type": "markdown",
   "metadata": {},
   "source": [
    "Calculate the training and test RMSE of our baseline model."
   ]
  },
  {
   "cell_type": "code",
   "execution_count": 57,
   "metadata": {},
   "outputs": [
    {
     "name": "stdout",
     "output_type": "stream",
     "text": [
      "Baseline Train RMSE = 0.77300\n",
      "Baseline Test RMSE = 0.76532\n",
      "Compare this with..\n",
      "Model 3 RMSE = 0.24300\n"
     ]
    }
   ],
   "source": [
    "#First convert Pyspark dataframes to RDDs\n",
    "trainrdd=trainDF.rdd\n",
    "testrdd=testDF.rdd\n",
    "\n",
    "#create RDDs of (label, prediction) tuples for training dataset\n",
    "labelsAndPredsTrain = trainrdd.map(lambda x: (x.pricelog, mod3avg))\n",
    "#call calcRMSE\n",
    "rmseTrainBase = calcRMSE(labelsAndPredsTrain)\n",
    "\n",
    "#create RDDs of (label, prediction) tuples for test dataset\n",
    "labelsAndPredsTest = testrdd.map(lambda x: (x.pricelog, mod3avg))\n",
    "##call calcRMSE\n",
    "rmseTestBase = calcRMSE(labelsAndPredsTest)\n",
    "\n",
    "print('Baseline Train RMSE = {0:.5f}'.format(rmseTrainBase))\n",
    "print('Baseline Test RMSE = {0:.5f}'.format(rmseTestBase))\n",
    "print(\"Compare this with..\")\n",
    "print(f\"Model 3 RMSE = {mod3rmse:.5f}\")"
   ]
  },
  {
   "cell_type": "markdown",
   "metadata": {},
   "source": [
    "Our model (RSME = 0.243) beat the baseline of 0.773 so yay!"
   ]
  },
  {
   "cell_type": "markdown",
   "metadata": {},
   "source": [
    "#### <font color='grey'>4.4.4.2 R Squared Error (R2) <a class=\"anchor\" name=\"mod3-r2\"></a></font>"
   ]
  },
  {
   "cell_type": "markdown",
   "metadata": {},
   "source": [
    "Another option for evaluating the model is to use R2."
   ]
  },
  {
   "cell_type": "code",
   "execution_count": 58,
   "metadata": {},
   "outputs": [
    {
     "name": "stdout",
     "output_type": "stream",
     "text": [
      "Model 3 R2 is 0.89877\n",
      "Compare this with..\n",
      "Model 1 R2 is 0.66890\n",
      "Model 2 R2 is 0.66890\n"
     ]
    }
   ],
   "source": [
    "# Calculate R2\n",
    "mod3r2 = regressionEvaluator.setMetricName(\"r2\").evaluate(predDF)\n",
    "print(f\"Model 3 R2 is {mod3r2:.5f}\")\n",
    "print(\"Compare this with..\")\n",
    "print(f\"Model 1 R2 is {mod1r2:.5f}\")\n",
    "print(f\"Model 2 R2 is {mod2r2:.5f}\")\n"
   ]
  },
  {
   "cell_type": "markdown",
   "metadata": {},
   "source": [
    "If the model perfectly predicts every point it would have an R2 values of 1 and a model that is not performing well has a value closer to 0."
   ]
  },
  {
   "cell_type": "markdown",
   "metadata": {},
   "source": [
    "<font color=black>Return to \n",
    "[Table of Contents](#table-of-contents)</font>"
   ]
  },
  {
   "cell_type": "markdown",
   "metadata": {},
   "source": [
    "#### <font color='grey'>4.3.4.3 Plot results<a class=\"anchor\" name=\"mod3-plot\"></a></font>"
   ]
  },
  {
   "cell_type": "code",
   "execution_count": 59,
   "metadata": {},
   "outputs": [
    {
     "data": {
      "text/plain": [
       "<AxesSubplot:title={'center':'Model 3: Predicted Price vs Price'}, xlabel='price', ylabel='predprice'>"
      ]
     },
     "execution_count": 59,
     "metadata": {},
     "output_type": "execute_result"
    },
    {
     "data": {
      "image/png": "[encoded data removed]",
      "text/plain": [
       "<Figure size 432x288 with 2 Axes>"
      ]
     },
     "metadata": {
      "needs_background": "light"
     },
     "output_type": "display_data"
    }
   ],
   "source": [
    "#Create a pandas dataframe for plotting\n",
    "df = check.select(\"price\", \"predprice\", \"odometer\").toPandas()\n",
    "\n",
    "#Plot predprice vs price on a scatter graph\n",
    "fig, ax = plt.subplots()\n",
    "plt.title('Model 3: Predicted Price vs Price')\n",
    "df.plot(kind=\"scatter\", x=\"price\", y=\"predprice\", s=1, c=\"odometer\", cmap=\"plasma\", ax=ax)"
   ]
  },
  {
   "cell_type": "markdown",
   "metadata": {},
   "source": [
    "A perfect model would be a perfectly straight line.  This model has quite a large spread in points."
   ]
  },
  {
   "cell_type": "markdown",
   "metadata": {},
   "source": [
    "<font color=black>Return to \n",
    "[Table of Contents](#table-of-contents)</font>"
   ]
  },
  {
   "cell_type": "markdown",
   "metadata": {},
   "source": [
    "## <font color='red'>4.5 Model 4 - Develop More Complex Model (maximising attributes) <a class=\"anchor\" name=\"mod4\"></a></font>\n"
   ]
  },
  {
   "cell_type": "markdown",
   "metadata": {},
   "source": [
    "Model 4 is a model using all available attributes so removing null values.  This reduces the size of the dataset and increases model complexity."
   ]
  },
  {
   "cell_type": "markdown",
   "metadata": {},
   "source": [
    "### <font color='red'>4.5.1 Data Preparation <a class=\"anchor\" name=\"mod4-dataprep\"></a></font>\n"
   ]
  },
  {
   "cell_type": "markdown",
   "metadata": {},
   "source": [
    "Need to first remove all the null values"
   ]
  },
  {
   "cell_type": "code",
   "execution_count": 60,
   "metadata": {},
   "outputs": [
    {
     "name": "stdout",
     "output_type": "stream",
     "text": [
      "+-----------------+----+--------------------+------------+--------------------+---------+---------+-----+--------+--------------------+------------+-----+------+-----------+-----+\n",
      "|         pricelog|year|         year_scaled|manufacturer|               model|condition|cylinders| fuel|odometer|     odometer_scaled|transmission|drive|  type|paint_color|state|\n",
      "+-----------------+----+--------------------+------------+--------------------+---------+---------+-----+--------+--------------------+------------+-----+------+-----------+-----+\n",
      "|9.104424146384634|2013|[0.7391304347826086]|        FORD|        EXPLORER 4X4|     GOOD|        6|  GAS|150000.0|[0.4991652698849408]|   AUTOMATIC|  4WD|   SUV|     CUSTOM|   CT|\n",
      "|10.65937476291726|2019|               [1.0]|   CHEVROLET|TAHOE LT SPORT UT...|     GOOD|        8|OTHER| 39513.0|[0.1302579649947579]|       OTHER|  4WD|   SUV|      BLACK|   CA|\n",
      "|9.798071479779479|2009|[0.5652173913043478]|   CHEVROLET| SILVERADO 2500HD LT|EXCELLENT|        6|  GAS| 86700.0|[0.2878116047519516]|   AUTOMATIC|  4WD|PICKUP|      BLACK|   CT|\n",
      "| 10.1226230824528|2012|[0.6956521739130435]|         GMC|               YUKON|EXCELLENT|        8|  GAS|111000.0|[0.36894737193570...|   AUTOMATIC|  4WD|   SUV|      BLACK|   NC|\n",
      "|9.946930110378965|2018|[0.9565217391304348]|       DODGE|         CHARGER SXT|     GOOD|        6|  GAS| 58048.0|[0.1921448557252469]|   AUTOMATIC|  RWD| SEDAN|        RED|   TX|\n",
      "+-----------------+----+--------------------+------------+--------------------+---------+---------+-----+--------+--------------------+------------+-----+------+-----------+-----+\n",
      "only showing top 5 rows\n",
      "\n"
     ]
    }
   ],
   "source": [
    "mod4 = vehicles.select(\"pricelog\", \"year\",\"year_scaled\", \"manufacturer\",\"model\",\"condition\",\\\n",
    "                       \"cylinders\",\"fuel\",\"odometer\", \"odometer_scaled\", \"transmission\",\"drive\",\"type\",\"paint_color\", \"state\")\\\n",
    "               .where(vehicles.condition.isNotNull())\\\n",
    "               .where(vehicles.cylinders.isNotNull())\\\n",
    "               .where(vehicles.drive.isNotNull())\\\n",
    "               .where(vehicles.paint_color.isNotNull())\\\n",
    "\n",
    "mod4.show(5)"
   ]
  },
  {
   "cell_type": "code",
   "execution_count": 61,
   "metadata": {},
   "outputs": [
    {
     "name": "stdout",
     "output_type": "stream",
     "text": [
      "(80920, 15)\n"
     ]
    }
   ],
   "source": [
    "#check size of mod4 file\n",
    "print((mod4.count(), len(mod4.columns)))"
   ]
  },
  {
   "cell_type": "markdown",
   "metadata": {},
   "source": [
    "There are only 80920 rows left in the file after removal of all the null values.  This makes the dataset much smaller (removed approximately 63% of the dataset) while increasing model complexity."
   ]
  },
  {
   "cell_type": "markdown",
   "metadata": {},
   "source": [
    "<font color=black>Return to \n",
    "[Table of Contents](#table-of-contents)</font>"
   ]
  },
  {
   "cell_type": "markdown",
   "metadata": {},
   "source": [
    "### <font color='red'>4.5.2 Train-Test Split <a class=\"anchor\" name=\"mod4-train-test-split\"></a></font>\n",
    "\n"
   ]
  },
  {
   "cell_type": "code",
   "execution_count": 62,
   "metadata": {},
   "outputs": [
    {
     "name": "stdout",
     "output_type": "stream",
     "text": [
      "There are 64847 rows in the training set, \n",
      "and 16073 in the test set\n"
     ]
    }
   ],
   "source": [
    "#split the data into train and test and check number of rows\n",
    "trainDF, testDF = mod4.randomSplit([.8, .2], seed=42)\n",
    "print(f\"\"\"There are {trainDF.count()} rows in the training set, \n",
    "and {testDF.count()} in the test set\"\"\")\n"
   ]
  },
  {
   "cell_type": "markdown",
   "metadata": {},
   "source": [
    "<font color=black>Return to \n",
    "[Table of Contents](#table-of-contents)</font>"
   ]
  },
  {
   "cell_type": "markdown",
   "metadata": {},
   "source": [
    "### <font color='red'>4.5.3 Model Building <a class=\"anchor\" name=\"mod4-model-building\"></a></font>"
   ]
  },
  {
   "cell_type": "markdown",
   "metadata": {},
   "source": [
    "First transform the data into a single vector using VectorAssembler which takes a list of input columns and creates a new dataframe with an additional column, called features.  VectorAssembler combines the values of those input columns into a single vector.\n",
    "\n",
    "The categorical values need to be first mapped into numeric values by applying StringIndexer (which converts categorical values into category indexes) then pass these inputs to the OneHotEncoder which maps a column of category indices to a column of binary vectors."
   ]
  },
  {
   "cell_type": "code",
   "execution_count": 63,
   "metadata": {},
   "outputs": [],
   "source": [
    "#Define the categorical and numeric columns\n",
    "categoricalCols = ['manufacturer', 'model', 'condition', 'fuel', 'transmission', 'drive', 'type', 'paint_color', 'state']\n",
    "numericCols = ['year_scaled', 'odometer_scaled']\n",
    "\n",
    "#Define column names for index output columns and ohe output\n",
    "indexOutputCols = [x + \"Index\" for x in categoricalCols]\n",
    "oheOutputCols = [x + \"OHE\" for x in categoricalCols]\n",
    "\n",
    "#apply string indexer and ohe\n",
    "stringIndexer = StringIndexer(inputCols=categoricalCols, outputCols=indexOutputCols, handleInvalid=\"skip\")\n",
    "oheEncoder = OneHotEncoder(inputCols=indexOutputCols, outputCols=oheOutputCols)\n",
    "\n",
    "#Define the vector assembler inputs (ohe and numeric columns)\n",
    "assemblerInputs = oheOutputCols + numericCols\n",
    "\n",
    "#Run the vector assembler\n",
    "vecAssembler = VectorAssembler(inputCols=assemblerInputs, outputCol=\"features\")"
   ]
  },
  {
   "cell_type": "markdown",
   "metadata": {},
   "source": [
    "In order to apply our model to our test set, need to prepare the test data in the same way as the training set so setup the stages in a pipeline."
   ]
  },
  {
   "cell_type": "code",
   "execution_count": 64,
   "metadata": {},
   "outputs": [
    {
     "name": "stdout",
     "output_type": "stream",
     "text": [
      "+--------------------+-----------------+-----------------+\n",
      "|            features|         pricelog|       prediction|\n",
      "+--------------------+-----------------+-----------------+\n",
      "|(7551,[3,62,7468,...|7.003065458786462|7.167600463771224|\n",
      "|(7551,[5,49,7468,...|7.003065458786462|7.764130307417427|\n",
      "|(7551,[22,139,746...|7.003065458786462| 8.08151274624944|\n",
      "|(7551,[29,443,746...|7.003065458786462|8.557026001870327|\n",
      "|(7551,[1,330,7466...|7.047517221357296|  8.8022587448126|\n",
      "+--------------------+-----------------+-----------------+\n",
      "only showing top 5 rows\n",
      "\n"
     ]
    }
   ],
   "source": [
    "#Define the linear regression\n",
    "lr = LinearRegression(labelCol=\"pricelog\", featuresCol=\"features\")\n",
    "\n",
    "#build the pipeline\n",
    "pipeline = Pipeline(stages = [stringIndexer, oheEncoder, vecAssembler, lr])\n",
    "\n",
    "#apply the pipeline to the training dataset\n",
    "pipelineModel = pipeline.fit(trainDF)\n",
    "\n",
    "#apply the pipeline to the test dataset\n",
    "predDF = pipelineModel.transform(testDF)\n",
    "\n",
    "#take a sample and look\n",
    "predDF.select(\"features\", \"pricelog\", \"prediction\").show(5)"
   ]
  },
  {
   "cell_type": "markdown",
   "metadata": {},
   "source": [
    "The features column is represented as a SparseVector. There are 7551 features after one-hot encoding, followed by the nonzero indices and then the values\n",
    "themselves."
   ]
  },
  {
   "cell_type": "code",
   "execution_count": 65,
   "metadata": {},
   "outputs": [
    {
     "name": "stdout",
     "output_type": "stream",
     "text": [
      "+----+------------+--------------+----+--------+------------+--------+-----+-----------------+------------------+\n",
      "|year|manufacturer|         model|fuel|odometer|transmission|    type|state|         pricelog|        prediction|\n",
      "+----+------------+--------------+----+--------+------------+--------+-----+-----------------+------------------+\n",
      "|1997|       HONDA|       ODYSSEY| GAS|217005.0|   AUTOMATIC|MINI-VAN|   AZ|7.003065458786462| 7.167600463771224|\n",
      "|2002|        JEEP|GRAND CHEROKEE| GAS|198000.0|   AUTOMATIC|     SUV|   VA|7.003065458786462| 7.764130307417427|\n",
      "|2003|       ACURA|            TL| GAS|220000.0|   AUTOMATIC|   SEDAN|   FL|7.003065458786462|  8.08151274624944|\n",
      "|2008|      SATURN|          AURA| GAS|126000.0|   AUTOMATIC|   SEDAN|   NY|7.003065458786462| 8.557026001870327|\n",
      "|2013|   CHEVROLET|      SONIC LT| GAS| 83000.0|      MANUAL|   SEDAN|   ID|7.047517221357296|   8.8022587448126|\n",
      "|2013|         KIA|       SORENTO| GAS|181578.0|   AUTOMATIC|     SUV|   OH|7.085901464365611| 8.750190766562149|\n",
      "|1997|   CHEVROLET|          3500| GAS|200000.0|   AUTOMATIC|  PICKUP|   PA|7.090076835776092| 8.084745977936311|\n",
      "|1998|   CHEVROLET|      SUBURBAN| GAS|213000.0|   AUTOMATIC|  PICKUP|   MA|7.090076835776092|7.8469254334515846|\n",
      "|1999|        FORD|        RANGER| GAS|207263.0|   AUTOMATIC|  PICKUP|   PA|7.090076835776092| 7.933410689845409|\n",
      "|1999|         RAM|          1500| GAS|150000.0|   AUTOMATIC|  PICKUP|   IA|7.090076835776092| 7.990246306144222|\n",
      "+----+------------+--------------+----+--------+------------+--------+-----+-----------------+------------------+\n",
      "only showing top 10 rows\n",
      "\n"
     ]
    }
   ],
   "source": [
    "#Take a look at the other columns\n",
    "predDF.select(\"year\", \"manufacturer\", \"model\", \"fuel\", \"odometer\", \"transmission\", \"type\", \"state\", \"pricelog\", \"prediction\").show(10)"
   ]
  },
  {
   "cell_type": "markdown",
   "metadata": {},
   "source": [
    "To compare actual price instead of log price convert back to real price"
   ]
  },
  {
   "cell_type": "code",
   "execution_count": 66,
   "metadata": {},
   "outputs": [
    {
     "name": "stdout",
     "output_type": "stream",
     "text": [
      "+----+------------+----------------+------+--------+------------+---------+-----+---------------+-------------------+\n",
      "|year|manufacturer|           model|  fuel|odometer|transmission|     type|state|round(price, 0)|round(predprice, 0)|\n",
      "+----+------------+----------------+------+--------+------------+---------+-----+---------------+-------------------+\n",
      "|1997|       HONDA|         ODYSSEY|   GAS|217005.0|   AUTOMATIC| MINI-VAN|   AZ|         1100.0|             1297.0|\n",
      "|2002|        JEEP|  GRAND CHEROKEE|   GAS|198000.0|   AUTOMATIC|      SUV|   VA|         1100.0|             2355.0|\n",
      "|2003|       ACURA|              TL|   GAS|220000.0|   AUTOMATIC|    SEDAN|   FL|         1100.0|             3234.0|\n",
      "|2008|      SATURN|            AURA|   GAS|126000.0|   AUTOMATIC|    SEDAN|   NY|         1100.0|             5203.0|\n",
      "|2013|   CHEVROLET|        SONIC LT|   GAS| 83000.0|      MANUAL|    SEDAN|   ID|         1150.0|             6649.0|\n",
      "|2013|         KIA|         SORENTO|   GAS|181578.0|   AUTOMATIC|      SUV|   OH|         1195.0|             6312.0|\n",
      "|1997|   CHEVROLET|            3500|   GAS|200000.0|   AUTOMATIC|   PICKUP|   PA|         1200.0|             3245.0|\n",
      "|1998|   CHEVROLET|        SUBURBAN|   GAS|213000.0|   AUTOMATIC|   PICKUP|   MA|         1200.0|             2558.0|\n",
      "|1999|        FORD|          RANGER|   GAS|207263.0|   AUTOMATIC|   PICKUP|   PA|         1200.0|             2789.0|\n",
      "|1999|         RAM|            1500|   GAS|150000.0|   AUTOMATIC|   PICKUP|   IA|         1200.0|             2952.0|\n",
      "|1999|       VOLVO|             S70|   GAS|252582.0|   AUTOMATIC|    SEDAN|   WY|         1200.0|             1496.0|\n",
      "|2000|       DODGE|   GRAND CARAVAN|DIESEL|150000.0|   AUTOMATIC| MINI-VAN|   KS|         1200.0|             4075.0|\n",
      "|2001|    CHRYSLER|      PT CRUISER|   GAS|170000.0|      MANUAL|HATCHBACK|   RI|         1200.0|             1053.0|\n",
      "|2001|        FORD| FOCUS HATCHBACK|   GAS|223000.0|   AUTOMATIC|HATCHBACK|   OR|         1200.0|             1658.0|\n",
      "|2002|       HONDA|ODYSSEY 5DR EX-L|   GAS|184021.0|   AUTOMATIC| MINI-VAN|   RI|         1200.0|             2159.0|\n",
      "|2004|       ACURA|         MDX AWD|   GAS|188543.0|   AUTOMATIC|      VAN|   CO|         1200.0|             3581.0|\n",
      "|2004|    INFINITI|             I35|   GAS|190000.0|   AUTOMATIC|    SEDAN|   SC|         1200.0|             1866.0|\n",
      "|2008|     LINCOLN| MKX LIMITED AWD|   GAS|160000.0|   AUTOMATIC|      SUV|   MA|         1200.0|             1596.0|\n",
      "|2003|         RAM|        1500 4X4|   GAS|118272.0|   AUTOMATIC|   PICKUP|   TN|         1234.0|             8287.0|\n",
      "|2003|      SUBARU|  LEGACY OUTBACK|   GAS|182508.0|   AUTOMATIC|      SUV|   CO|         1250.0|             3935.0|\n",
      "+----+------------+----------------+------+--------+------------+---------+-----+---------------+-------------------+\n",
      "only showing top 20 rows\n",
      "\n"
     ]
    }
   ],
   "source": [
    "check = predDF.withColumn(\"price\", exp(\"pricelog\")).withColumn(\"predprice\", exp(\"prediction\"))\n",
    "check.select(\"year\", \"manufacturer\", \"model\", \"fuel\", \"odometer\", \"transmission\", \"type\", \"state\", round(\"price\"), round(\"predprice\")).show(20)\n"
   ]
  },
  {
   "cell_type": "markdown",
   "metadata": {},
   "source": [
    "<font color=black>Return to \n",
    "[Table of Contents](#table-of-contents)</font>"
   ]
  },
  {
   "cell_type": "markdown",
   "metadata": {},
   "source": [
    "### <font color='red'>4.5.4 Evaluation <a class=\"anchor\" name=\"mod4-evaluation\"></a></font>"
   ]
  },
  {
   "cell_type": "markdown",
   "metadata": {},
   "source": [
    "Root Mean Square Error (RMSE) and R squared (R2) will be used to evaluate the model performance"
   ]
  },
  {
   "cell_type": "markdown",
   "metadata": {},
   "source": [
    "#### <font color='red'>4.5.4.1 Root Mean Square Error (RMSE) <a class=\"anchor\" name=\"mod4-rmse\"></a></font>\n"
   ]
  },
  {
   "cell_type": "markdown",
   "metadata": {},
   "source": [
    "\n",
    "RMSE is a metric that ranges from zero to infinity.  The closer it is to zero the better.\n"
   ]
  },
  {
   "cell_type": "code",
   "execution_count": 67,
   "metadata": {},
   "outputs": [
    {
     "name": "stdout",
     "output_type": "stream",
     "text": [
      "Model 4 RMSE is 0.27389\n",
      "compare this with...\n",
      "Model 1 RMSE is 0.44037\n",
      "Model 2 RMSE is 0.44037\n",
      "Model 3 RMSE is 0.24300\n"
     ]
    }
   ],
   "source": [
    "#Evaluate the model using RMSE\n",
    "regressionEvaluator = RegressionEvaluator(\n",
    " predictionCol=\"prediction\",\n",
    " labelCol=\"pricelog\",\n",
    " metricName=\"rmse\")\n",
    "mod4rmse = regressionEvaluator.evaluate(predDF)\n",
    "print(f\"Model 4 RMSE is {mod4rmse:.5f}\")\n",
    "print(\"compare this with...\")\n",
    "print(f\"Model 1 RMSE is {mod1rmse:.5f}\")\n",
    "print(f\"Model 2 RMSE is {mod2rmse:.5f}\")\n",
    "print(f\"Model 3 RMSE is {mod3rmse:.5f}\")\n"
   ]
  },
  {
   "cell_type": "markdown",
   "metadata": {},
   "source": [
    "Compare against baseline RMSE"
   ]
  },
  {
   "cell_type": "code",
   "execution_count": 68,
   "metadata": {},
   "outputs": [
    {
     "name": "stdout",
     "output_type": "stream",
     "text": [
      "9.300318513530577\n"
     ]
    }
   ],
   "source": [
    "#compute the average pricelog for the training dataset\n",
    "mod4avg = trainDF.select(avg(\"pricelog\")).collect()[0][0]\n",
    "print(mod4avg)\n"
   ]
  },
  {
   "cell_type": "markdown",
   "metadata": {},
   "source": [
    "Calculate the training and test RMSE of our baseline model."
   ]
  },
  {
   "cell_type": "code",
   "execution_count": 69,
   "metadata": {},
   "outputs": [
    {
     "name": "stdout",
     "output_type": "stream",
     "text": [
      "Baseline Train RMSE = 0.81576\n",
      "Baseline Test RMSE = 0.81007\n",
      "Compare this with..\n",
      "Model 4 RMSE = 0.27389\n"
     ]
    }
   ],
   "source": [
    "#First convert Pyspark dataframes to RDDs\n",
    "trainrdd=trainDF.rdd\n",
    "testrdd=testDF.rdd\n",
    "\n",
    "#create RDDs of (label, prediction) tuples for training dataset\n",
    "labelsAndPredsTrain = trainrdd.map(lambda x: (x.pricelog, mod4avg))\n",
    "#call calcRMSE\n",
    "rmseTrainBase = calcRMSE(labelsAndPredsTrain)\n",
    "\n",
    "#create RDDs of (label, prediction) tuples for test dataset\n",
    "labelsAndPredsTest = testrdd.map(lambda x: (x.pricelog, mod4avg))\n",
    "##call calcRMSE\n",
    "rmseTestBase = calcRMSE(labelsAndPredsTest)\n",
    "\n",
    "print('Baseline Train RMSE = {0:.5f}'.format(rmseTrainBase))\n",
    "print('Baseline Test RMSE = {0:.5f}'.format(rmseTestBase))\n",
    "print(\"Compare this with..\")\n",
    "print(f\"Model 4 RMSE = {mod4rmse:.5f}\")"
   ]
  },
  {
   "cell_type": "markdown",
   "metadata": {},
   "source": [
    "Our model (RSME = 0.273) beat the baseline of 0.816 so yay!"
   ]
  },
  {
   "cell_type": "markdown",
   "metadata": {},
   "source": [
    "#### <font color='red'>4.4.4.2 R Squared Error (R2) <a class=\"anchor\" name=\"mod4-r2\"></a></font>\n"
   ]
  },
  {
   "cell_type": "markdown",
   "metadata": {},
   "source": [
    "Another option for evaluating the model is to use R2."
   ]
  },
  {
   "cell_type": "code",
   "execution_count": 70,
   "metadata": {},
   "outputs": [
    {
     "name": "stdout",
     "output_type": "stream",
     "text": [
      "Model 4 R2 is 0.88584\n",
      "Compare this with..\n",
      "Model 1 R2 is 0.66890\n",
      "Model 2 R2 is 0.66890\n",
      "Model 3 R2 is 0.89877\n"
     ]
    }
   ],
   "source": [
    "# Calculate R2\n",
    "mod4r2 = regressionEvaluator.setMetricName(\"r2\").evaluate(predDF)\n",
    "print(f\"Model 4 R2 is {mod4r2:.5f}\")\n",
    "print(\"Compare this with..\")\n",
    "print(f\"Model 1 R2 is {mod1r2:.5f}\")\n",
    "print(f\"Model 2 R2 is {mod2r2:.5f}\")\n",
    "print(f\"Model 3 R2 is {mod3r2:.5f}\")\n"
   ]
  },
  {
   "cell_type": "markdown",
   "metadata": {},
   "source": [
    "If the model perfectly predicts every point it would have an R2 values of 1 and a model that is not performing well has a value closer to 0."
   ]
  },
  {
   "cell_type": "markdown",
   "metadata": {},
   "source": [
    "<font color=black>Return to \n",
    "[Table of Contents](#table-of-contents)</font>"
   ]
  },
  {
   "cell_type": "markdown",
   "metadata": {},
   "source": [
    "#### <font color='red'>4.4.4.3 Plot results<a class=\"anchor\" name=\"mod4-plot\"></a></font>"
   ]
  },
  {
   "cell_type": "code",
   "execution_count": 71,
   "metadata": {},
   "outputs": [
    {
     "data": {
      "text/plain": [
       "<AxesSubplot:title={'center':'Model 4: Predicted Price vs Price'}, xlabel='price', ylabel='predprice'>"
      ]
     },
     "execution_count": 71,
     "metadata": {},
     "output_type": "execute_result"
    },
    {
     "data": {
      "image/png": "[encoded data removed]",
      "text/plain": [
       "<Figure size 432x288 with 2 Axes>"
      ]
     },
     "metadata": {
      "needs_background": "light"
     },
     "output_type": "display_data"
    }
   ],
   "source": [
    "#Create a pandas dataframe for plotting\n",
    "df = check.select(\"price\", \"predprice\", \"odometer\").toPandas()\n",
    "\n",
    "#Plot predprice vs price on a scatter graph\n",
    "fig, ax = plt.subplots()\n",
    "plt.title('Model 4: Predicted Price vs Price')\n",
    "df.plot(kind=\"scatter\", x=\"price\", y=\"predprice\", s=1, c=\"odometer\", cmap=\"plasma\", ax=ax)"
   ]
  },
  {
   "cell_type": "markdown",
   "metadata": {},
   "source": [
    "A perfect model would be a perfectly straight line.  This model has quite a large spread in points."
   ]
  },
  {
   "cell_type": "markdown",
   "metadata": {},
   "source": [
    "<font color=black>Return to \n",
    "[Table of Contents](#table-of-contents)</font>"
   ]
  },
  {
   "cell_type": "markdown",
   "metadata": {},
   "source": [
    "## <font color='black'>4.6 Best Model Selection <a class=\"anchor\" name=\"best-mod\"></a></font>"
   ]
  },
  {
   "cell_type": "code",
   "execution_count": 72,
   "metadata": {},
   "outputs": [
    {
     "name": "stdout",
     "output_type": "stream",
     "text": [
      "Model 1 R2 is 0.6688983451523918 and RMSE is 0.44036848042461896\n",
      "Model 2 R2 is 0.6688983451529625 and RMSE is 0.4403684804242393\n",
      "Model 3 R2 is 0.8987680950241743 and RMSE is 0.24300282068598134\n",
      "Model 4 R2 is 0.8858355341002995 and RMSE is 0.27389459105833386\n"
     ]
    }
   ],
   "source": [
    "#Comparing the Models\n",
    "print(f\"Model 1 R2 is {mod1r2:} and RMSE is {mod1rmse:}\")\n",
    "print(f\"Model 2 R2 is {mod2r2:} and RMSE is {mod2rmse:}\")\n",
    "print(f\"Model 3 R2 is {mod3r2:} and RMSE is {mod3rmse:}\")\n",
    "print(f\"Model 4 R2 is {mod4r2:} and RMSE is {mod4rmse:}\")"
   ]
  },
  {
   "cell_type": "markdown",
   "metadata": {},
   "source": [
    "The best model is Model 3 which has the highest R2 and the lowest RMSE values.  Hyperparameter tuning will be conducted on this model in the next section"
   ]
  },
  {
   "cell_type": "markdown",
   "metadata": {},
   "source": [
    "<font color=black>Return to \n",
    "[Table of Contents](#table-of-contents)</font>"
   ]
  },
  {
   "cell_type": "markdown",
   "metadata": {},
   "source": [
    "### <font color='black'>4.6.1 Setup the Model <a class=\"anchor\" name=\"best-mod-setup\"></a></font>"
   ]
  },
  {
   "cell_type": "markdown",
   "metadata": {},
   "source": [
    "Setup model 3"
   ]
  },
  {
   "cell_type": "code",
   "execution_count": 73,
   "metadata": {},
   "outputs": [],
   "source": [
    "#split the data into train and test and check number of rows\n",
    "trainDF, testDF = mod3.randomSplit([.8, .2], seed=42)\n",
    "\n",
    "#Define the categorical and numeric columns\n",
    "categoricalCols = ['manufacturer', 'model', 'fuel', 'transmission', 'type', 'state']\n",
    "numericCols = ['year_scaled', 'odometer_scaled']\n",
    "\n",
    "#Define column names for index output columns and ohe output\n",
    "indexOutputCols = [x + \"Index\" for x in categoricalCols]\n",
    "oheOutputCols = [x + \"OHE\" for x in categoricalCols]\n",
    "\n",
    "#apply string indexer and ohe\n",
    "stringIndexer = StringIndexer(inputCols=categoricalCols, outputCols=indexOutputCols, handleInvalid=\"skip\")\n",
    "oheEncoder = OneHotEncoder(inputCols=indexOutputCols, outputCols=oheOutputCols)\n",
    "\n",
    "#Define the vector assembler inputs (ohe and numeric columns)\n",
    "assemblerInputs = oheOutputCols + numericCols\n",
    "\n",
    "#Run the vector assembler\n",
    "vecAssembler = VectorAssembler(inputCols=assemblerInputs, outputCol=\"features\")\n",
    "\n",
    "#Define the linear regression\n",
    "lr = LinearRegression(labelCol=\"pricelog\", featuresCol=\"features\")\n",
    "\n",
    "#build the pipeline\n",
    "pipeline = Pipeline(stages = [stringIndexer, oheEncoder, vecAssembler, lr])\n",
    "\n",
    "#apply the pipeline to the training dataset\n",
    "pipelineModel = pipeline.fit(trainDF)\n",
    "\n",
    "#apply the pipeline to the test dataset\n",
    "predDF = pipelineModel.transform(testDF)"
   ]
  },
  {
   "cell_type": "markdown",
   "metadata": {},
   "source": [
    "<font color=black>Return to \n",
    "[Table of Contents](#table-of-contents)</font>"
   ]
  },
  {
   "cell_type": "markdown",
   "metadata": {},
   "source": [
    "### <font color='black'>4.6.2 Cross Validation & Hyperparameter Tuning <a class=\"anchor\" name=\"bestmod-crossval\"></a></font>"
   ]
  },
  {
   "cell_type": "markdown",
   "metadata": {},
   "source": [
    "In a linear model with many predictor variables or if these variables are correlated, the standard Ordinary Least Squares parameter estimates have large variance, thus making the model unreliable.  In order to counter this you can use use regularization - a technique which decreases the variance at the cost of introducing some bias. Finding a good bias-variance trade-off minimizes model's total error.\n",
    "\n",
    "There are three popular regularization techniques, each of them aiming at decreasing the size of the coefficients:\n",
    "Ridge Regression, which penalizes sum of squared coefficients (L2 penalty).\n",
    "Lasso Regression, which penalizes the sum of absolute values of the coefficients (L1 penalty).\n",
    "Elastic Net, a convex combination of Ridge and Lasso.\n",
    "\n",
    "The hyperparameters to be tuned to check for this include regParam and eleasticNetParam"
   ]
  },
  {
   "cell_type": "markdown",
   "metadata": {},
   "source": [
    "First take a look at a list of default parameters for the model 3 estimater. "
   ]
  },
  {
   "cell_type": "code",
   "execution_count": 74,
   "metadata": {},
   "outputs": [
    {
     "data": {
      "text/plain": [
       "{Param(parent='LinearRegression_ed8743769ee8', name='aggregationDepth', doc='suggested depth for treeAggregate (>= 2).'): 2,\n",
       " Param(parent='LinearRegression_ed8743769ee8', name='elasticNetParam', doc='the ElasticNet mixing parameter, in range [0, 1]. For alpha = 0, the penalty is an L2 penalty. For alpha = 1, it is an L1 penalty.'): 0.0,\n",
       " Param(parent='LinearRegression_ed8743769ee8', name='featuresCol', doc='features column name.'): 'features',\n",
       " Param(parent='LinearRegression_ed8743769ee8', name='fitIntercept', doc='whether to fit an intercept term.'): True,\n",
       " Param(parent='LinearRegression_ed8743769ee8', name='labelCol', doc='label column name.'): 'pricelog',\n",
       " Param(parent='LinearRegression_ed8743769ee8', name='predictionCol', doc='prediction column name.'): 'prediction',\n",
       " Param(parent='LinearRegression_ed8743769ee8', name='solver', doc='The solver algorithm for optimization. Supported options: auto, normal, l-bfgs.'): 'auto',\n",
       " Param(parent='LinearRegression_ed8743769ee8', name='standardization', doc='whether to standardize the training features before fitting the model.'): True,\n",
       " Param(parent='LinearRegression_ed8743769ee8', name='epsilon', doc='The shape parameter to control the amount of robustness. Must be > 1.0. Only valid when loss is huber'): 1.35,\n",
       " Param(parent='LinearRegression_ed8743769ee8', name='loss', doc='The loss function to be optimized. Supported options: squaredError, huber.'): 'squaredError',\n",
       " Param(parent='LinearRegression_ed8743769ee8', name='maxIter', doc='max number of iterations (>= 0).'): 100,\n",
       " Param(parent='LinearRegression_ed8743769ee8', name='regParam', doc='regularization parameter (>= 0).'): 0.0,\n",
       " Param(parent='LinearRegression_ed8743769ee8', name='tol', doc='the convergence tolerance for iterative algorithms (>= 0).'): 1e-06}"
      ]
     },
     "execution_count": 74,
     "metadata": {},
     "output_type": "execute_result"
    }
   ],
   "source": [
    "#Check default parameters of model\n",
    "pipelineModel.stages[-1].extractParamMap()"
   ]
  },
  {
   "cell_type": "markdown",
   "metadata": {},
   "source": [
    "Check how many coefficients in this model"
   ]
  },
  {
   "cell_type": "code",
   "execution_count": 75,
   "metadata": {},
   "outputs": [
    {
     "name": "stdout",
     "output_type": "stream",
     "text": [
      "There are 12258 coefficients\n"
     ]
    }
   ],
   "source": [
    "coeff = pipelineModel.stages[-1].coefficients\n",
    "print(\"There are {} coefficients\".format(len(coeff)))"
   ]
  },
  {
   "cell_type": "markdown",
   "metadata": {},
   "source": [
    "Setup a grid specifying all the parameters and the values to test on the model.  Assign a series of values for the hyperparameters <code>regParam</code> and <code>elasticNetParam</code>"
   ]
  },
  {
   "cell_type": "markdown",
   "metadata": {},
   "source": [
    "Also specify 3 folds to test against."
   ]
  },
  {
   "cell_type": "code",
   "execution_count": 76,
   "metadata": {},
   "outputs": [],
   "source": [
    "#Build a grid specifiying the parameters to test\n",
    "paramGrid = ParamGridBuilder().addGrid(lr.regParam, [0, 0.01, 0.1, 1]).addGrid(lr.elasticNetParam, [0, 0.5, 1]).build()\n",
    "\n",
    "# Define an evaluator to be used for evaluating the model \n",
    "evaluator = RegressionEvaluator(labelCol=\"pricelog\", predictionCol=\"prediction\", metricName=\"rmse\")\n",
    "\n",
    "#Declare the CrossValidator using 3 folds\n",
    "cv = CrossValidator(estimator=pipeline, evaluator=evaluator, estimatorParamMaps=paramGrid, numFolds=3, seed=42)"
   ]
  },
  {
   "cell_type": "markdown",
   "metadata": {},
   "source": [
    "Next step is to train the cross-validator.  As the cross validator trains/evaluates the model for every fold of data across all possible parameter combinations, <strong style=\"color:red\">this step is very expensive and might take some time to finsh!</strong>"
   ]
  },
  {
   "cell_type": "code",
   "execution_count": 77,
   "metadata": {},
   "outputs": [],
   "source": [
    "#train the cross-validator\n",
    "cvModel = cv.fit(trainDF)"
   ]
  },
  {
   "cell_type": "code",
   "execution_count": 78,
   "metadata": {},
   "outputs": [
    {
     "data": {
      "text/plain": [
       "[({Param(parent='LinearRegression_ed8743769ee8', name='regParam', doc='regularization parameter (>= 0).'): 0.0,\n",
       "   Param(parent='LinearRegression_ed8743769ee8', name='elasticNetParam', doc='the ElasticNet mixing parameter, in range [0, 1]. For alpha = 0, the penalty is an L2 penalty. For alpha = 1, it is an L1 penalty.'): 0.0},\n",
       "  0.25140857103586645),\n",
       " ({Param(parent='LinearRegression_ed8743769ee8', name='regParam', doc='regularization parameter (>= 0).'): 0.0,\n",
       "   Param(parent='LinearRegression_ed8743769ee8', name='elasticNetParam', doc='the ElasticNet mixing parameter, in range [0, 1]. For alpha = 0, the penalty is an L2 penalty. For alpha = 1, it is an L1 penalty.'): 0.5},\n",
       "  0.25140857103586645),\n",
       " ({Param(parent='LinearRegression_ed8743769ee8', name='regParam', doc='regularization parameter (>= 0).'): 0.0,\n",
       "   Param(parent='LinearRegression_ed8743769ee8', name='elasticNetParam', doc='the ElasticNet mixing parameter, in range [0, 1]. For alpha = 0, the penalty is an L2 penalty. For alpha = 1, it is an L1 penalty.'): 1.0},\n",
       "  0.25140857103586645),\n",
       " ({Param(parent='LinearRegression_ed8743769ee8', name='regParam', doc='regularization parameter (>= 0).'): 0.01,\n",
       "   Param(parent='LinearRegression_ed8743769ee8', name='elasticNetParam', doc='the ElasticNet mixing parameter, in range [0, 1]. For alpha = 0, the penalty is an L2 penalty. For alpha = 1, it is an L1 penalty.'): 0.0},\n",
       "  0.251492508140982),\n",
       " ({Param(parent='LinearRegression_ed8743769ee8', name='regParam', doc='regularization parameter (>= 0).'): 0.01,\n",
       "   Param(parent='LinearRegression_ed8743769ee8', name='elasticNetParam', doc='the ElasticNet mixing parameter, in range [0, 1]. For alpha = 0, the penalty is an L2 penalty. For alpha = 1, it is an L1 penalty.'): 0.5},\n",
       "  0.3101731151954959),\n",
       " ({Param(parent='LinearRegression_ed8743769ee8', name='regParam', doc='regularization parameter (>= 0).'): 0.01,\n",
       "   Param(parent='LinearRegression_ed8743769ee8', name='elasticNetParam', doc='the ElasticNet mixing parameter, in range [0, 1]. For alpha = 0, the penalty is an L2 penalty. For alpha = 1, it is an L1 penalty.'): 1.0},\n",
       "  0.34301319185227097),\n",
       " ({Param(parent='LinearRegression_ed8743769ee8', name='regParam', doc='regularization parameter (>= 0).'): 0.1,\n",
       "   Param(parent='LinearRegression_ed8743769ee8', name='elasticNetParam', doc='the ElasticNet mixing parameter, in range [0, 1]. For alpha = 0, the penalty is an L2 penalty. For alpha = 1, it is an L1 penalty.'): 0.0},\n",
       "  0.26096289189138905),\n",
       " ({Param(parent='LinearRegression_ed8743769ee8', name='regParam', doc='regularization parameter (>= 0).'): 0.1,\n",
       "   Param(parent='LinearRegression_ed8743769ee8', name='elasticNetParam', doc='the ElasticNet mixing parameter, in range [0, 1]. For alpha = 0, the penalty is an L2 penalty. For alpha = 1, it is an L1 penalty.'): 0.5},\n",
       "  0.4284601014547069),\n",
       " ({Param(parent='LinearRegression_ed8743769ee8', name='regParam', doc='regularization parameter (>= 0).'): 0.1,\n",
       "   Param(parent='LinearRegression_ed8743769ee8', name='elasticNetParam', doc='the ElasticNet mixing parameter, in range [0, 1]. For alpha = 0, the penalty is an L2 penalty. For alpha = 1, it is an L1 penalty.'): 1.0},\n",
       "  0.4626770798982742),\n",
       " ({Param(parent='LinearRegression_ed8743769ee8', name='regParam', doc='regularization parameter (>= 0).'): 1.0,\n",
       "   Param(parent='LinearRegression_ed8743769ee8', name='elasticNetParam', doc='the ElasticNet mixing parameter, in range [0, 1]. For alpha = 0, the penalty is an L2 penalty. For alpha = 1, it is an L1 penalty.'): 0.0},\n",
       "  0.39232158591707933),\n",
       " ({Param(parent='LinearRegression_ed8743769ee8', name='regParam', doc='regularization parameter (>= 0).'): 1.0,\n",
       "   Param(parent='LinearRegression_ed8743769ee8', name='elasticNetParam', doc='the ElasticNet mixing parameter, in range [0, 1]. For alpha = 0, the penalty is an L2 penalty. For alpha = 1, it is an L1 penalty.'): 0.5},\n",
       "  0.7466037571799374),\n",
       " ({Param(parent='LinearRegression_ed8743769ee8', name='regParam', doc='regularization parameter (>= 0).'): 1.0,\n",
       "   Param(parent='LinearRegression_ed8743769ee8', name='elasticNetParam', doc='the ElasticNet mixing parameter, in range [0, 1]. For alpha = 0, the penalty is an L2 penalty. For alpha = 1, it is an L1 penalty.'): 1.0},\n",
       "  0.7710242110939609)]"
      ]
     },
     "execution_count": 78,
     "metadata": {},
     "output_type": "execute_result"
    }
   ],
   "source": [
    "#show a list of all the tests done\n",
    "list(zip(cvModel.getEstimatorParamMaps(), cvModel.avgMetrics))"
   ]
  },
  {
   "cell_type": "markdown",
   "metadata": {},
   "source": [
    "<font color=black>Return to \n",
    "[Table of Contents](#table-of-contents)</font>"
   ]
  },
  {
   "cell_type": "markdown",
   "metadata": {},
   "source": [
    "### <font color='black'>4.6.3 Choosing the Best Model <a class=\"anchor\" name=\"bestmod-choose\"></a></font>"
   ]
  },
  {
   "cell_type": "markdown",
   "metadata": {},
   "source": [
    "After running the CrossValidator, obtain the model with the best combination of hyperparameters using <code>.bestModel</code>. Also <code>bestModel.stages[-1]._java_obj.paramMap()</code> gives the hyperparameteres with the optimum values selected by the Cross Validator."
   ]
  },
  {
   "cell_type": "code",
   "execution_count": 79,
   "metadata": {},
   "outputs": [
    {
     "name": "stdout",
     "output_type": "stream",
     "text": [
      "STAGES\n",
      "[StringIndexerModel: uid=StringIndexer_b5cefe87fb02, handleInvalid=skip, numInputCols=6, numOutputCols=6, OneHotEncoderModel: uid=OneHotEncoder_94f07ca4e683, dropLast=true, handleInvalid=error, numInputCols=6, numOutputCols=6, VectorAssembler_70bc7d619dbd, LinearRegressionModel: uid=LinearRegression_ed8743769ee8, numFeatures=12258]\n",
      "Best Parameters:  {\n",
      "\tLinearRegression_ed8743769ee8-elasticNetParam: 0.0,\n",
      "\tLinearRegression_ed8743769ee8-featuresCol: features,\n",
      "\tLinearRegression_ed8743769ee8-labelCol: pricelog,\n",
      "\tLinearRegression_ed8743769ee8-regParam: 0.0\n",
      "}\n"
     ]
    }
   ],
   "source": [
    "#Getting the best model and the optimum parameters selected from the Cross Validation \n",
    "bestModel= cvModel.bestModel\n",
    "print(\"STAGES\")\n",
    "print(bestModel.stages)\n",
    "print('Best Parameters: ', bestModel.stages[-1]._java_obj.paramMap())"
   ]
  },
  {
   "cell_type": "markdown",
   "metadata": {},
   "source": [
    "The best model from our CrossValidator has regParam = 0.0 and elasticNetParam = 0.0"
   ]
  },
  {
   "cell_type": "markdown",
   "metadata": {},
   "source": [
    "<font color=black>Return to \n",
    "[Table of Contents](#table-of-contents)</font>"
   ]
  },
  {
   "cell_type": "markdown",
   "metadata": {},
   "source": [
    "### <font color='black'>4.6.4 Making Predictions <a class=\"anchor\" name=\"bestmod-pred\"></a></font>        \n",
    "        "
   ]
  },
  {
   "cell_type": "markdown",
   "metadata": {},
   "source": [
    "Transform the test dataset using the best model and take a look at the price and predicted price columns."
   ]
  },
  {
   "cell_type": "code",
   "execution_count": 80,
   "metadata": {},
   "outputs": [
    {
     "name": "stdout",
     "output_type": "stream",
     "text": [
      "+----+------------+----------------+----+--------+------------+---------+-----+---------------+-------------------+\n",
      "|year|manufacturer|           model|fuel|odometer|transmission|     type|state|round(price, 0)|round(predprice, 0)|\n",
      "+----+------------+----------------+----+--------+------------+---------+-----+---------------+-------------------+\n",
      "|1997|       HONDA|         ODYSSEY| GAS|217005.0|   AUTOMATIC| MINI-VAN|   AZ|         1100.0|             2133.0|\n",
      "|1999|        AUDI|              A4| GAS|195000.0|      MANUAL|    SEDAN|   FL|         1100.0|             2607.0|\n",
      "|2002|      NISSAN|          MAXIMA| GAS|181180.0|   AUTOMATIC|    SEDAN|   MD|         1100.0|             2953.0|\n",
      "|2003|   CHEVROLET|         VENTURE| GAS|234000.0|   AUTOMATIC| MINI-VAN|   OH|         1100.0|             2053.0|\n",
      "|2004|  MITSUBISHI|          LANCER| GAS|170000.0|   AUTOMATIC|    SEDAN|   OH|         1100.0|             3002.0|\n",
      "|2008|      SATURN|            AURA| GAS|126000.0|   AUTOMATIC|    SEDAN|   NY|         1100.0|             5747.0|\n",
      "|2005|      NISSAN|      XTERRA 4X4| GAS|172872.0|   AUTOMATIC|      SUV|   OH|         1150.0|             4792.0|\n",
      "|1996|        FORD|EXPLORER XLT AWD| GAS|197000.0|   AUTOMATIC|      SUV|   CA|         1200.0|             2397.0|\n",
      "|1996|     PONTIAC|      GRAND PRIX| GAS|110000.0|   AUTOMATIC|    COUPE|   FL|         1200.0|             2147.0|\n",
      "|1996|      SATURN|             SW2| GAS|200000.0|   AUTOMATIC|HATCHBACK|   IL|         1200.0|             2072.0|\n",
      "|1997|   CHEVROLET|           TAHOE| GAS|171235.0|   AUTOMATIC|      SUV|   VA|         1200.0|             4369.0|\n",
      "|1997|       DODGE|        INTREPID| GAS|150000.0|   AUTOMATIC|    SEDAN|   IA|         1200.0|             1367.0|\n",
      "|1998|   CHEVROLET|        SUBURBAN| GAS|213000.0|   AUTOMATIC|   PICKUP|   MA|         1200.0|             3788.0|\n",
      "|1998|        FORD|          TAURUS| GAS|202553.0|   AUTOMATIC|    SEDAN|   FL|         1200.0|             1752.0|\n",
      "|1999|      TOYOTA|           CAMRY| GAS|174675.0|   AUTOMATIC|    SEDAN|   DC|         1200.0|             2572.0|\n",
      "|2001|    CHRYSLER|      PT CRUISER| GAS|167000.0|   AUTOMATIC|HATCHBACK|   TN|         1200.0|             1915.0|\n",
      "|2003|       HONDA|         ODYSSEY| GAS|270000.0|   AUTOMATIC| MINI-VAN|   MD|         1200.0|             2478.0|\n",
      "|2004|       HONDA|          ACCORD| GAS|239000.0|   AUTOMATIC|    COUPE|   NY|         1200.0|             2939.0|\n",
      "|2004|       HONDA|           PILOT| GAS|151000.0|   AUTOMATIC|      SUV|   UT|         1200.0|             6236.0|\n",
      "|2004|    INFINITI|             I35| GAS|190000.0|   AUTOMATIC|    SEDAN|   SC|         1200.0|             3174.0|\n",
      "+----+------------+----------------+----+--------+------------+---------+-----+---------------+-------------------+\n",
      "only showing top 20 rows\n",
      "\n"
     ]
    }
   ],
   "source": [
    "#Transform the test dataset using the best model\n",
    "predDF = bestModel.transform(testDF)\n",
    "\n",
    "#Transform price values from log back to normal price\n",
    "check = predDF.withColumn(\"price\", exp(\"pricelog\")).withColumn(\"predprice\", exp(\"prediction\"))\n",
    "\n",
    "#Take a look at the final dataframe with attributes, price and predicted price.\n",
    "check.select(\"year\", \"manufacturer\", \"model\", \"fuel\", \"odometer\", \"transmission\", \"type\", \"state\", round(\"price\"), round(\"predprice\")).show(20)\n"
   ]
  },
  {
   "cell_type": "markdown",
   "metadata": {},
   "source": [
    "Plot predicted price vs price on a scatter plot to see how it performed.  Use odometer as a color scale."
   ]
  },
  {
   "cell_type": "code",
   "execution_count": 81,
   "metadata": {},
   "outputs": [
    {
     "data": {
      "text/plain": [
       "<AxesSubplot:title={'center':'Best Model: Predicted Price vs Price'}, xlabel='price', ylabel='predprice'>"
      ]
     },
     "execution_count": 81,
     "metadata": {},
     "output_type": "execute_result"
    },
    {
     "data": {
      "image/png": "[encoded data removed]",
      "text/plain": [
       "<Figure size 432x288 with 2 Axes>"
      ]
     },
     "metadata": {
      "needs_background": "light"
     },
     "output_type": "display_data"
    }
   ],
   "source": [
    "#Create a pandas dataframe for plotting\n",
    "df = check.select(\"price\", \"predprice\", \"odometer\").toPandas()\n",
    "\n",
    "#Plot predprice vs price on a scatter graph\n",
    "fig, ax = plt.subplots()\n",
    "plt.title('Best Model: Predicted Price vs Price')\n",
    "df.plot(kind=\"scatter\", x=\"price\", y=\"predprice\", s=1, c=\"odometer\", cmap=\"plasma\", ax=ax)"
   ]
  },
  {
   "cell_type": "markdown",
   "metadata": {},
   "source": [
    "\n"
   ]
  },
  {
   "cell_type": "markdown",
   "metadata": {},
   "source": [
    "<font color=black>Return to \n",
    "[Table of Contents](#table-of-contents)</font>"
   ]
  },
  {
   "cell_type": "markdown",
   "metadata": {},
   "source": [
    "# <font color='black'>5. Conclusion <a class=\"anchor\" name=\"conclusion\"></a></font>"
   ]
  },
  {
   "cell_type": "markdown",
   "metadata": {},
   "source": [
    "Four linear regression models were setup to test how well used car price could be predicted from the given dataset.\n",
    "- Model 1 was a simple regression model using only year, manufacturer and odometer. \n",
    "- Model 2 was a simple regression model using scaled numeric values year_scaled, manufacturer and odometer_scaled.\n",
    "- Model 3 was a more complex model using all of the attributes that did not have null values\n",
    "- Model 4 was a more complex model using all of the available attributes and removing records with null values.\n",
    " \n",
    "The best of these models was Model 3 and hyperparameter tuning was conducted on this model\n",
    "The optimum hyperparameters were regParam = 0 and elasticNetParam = 0"
   ]
  },
  {
   "cell_type": "markdown",
   "metadata": {},
   "source": [
    "<font color=black>Return to \n",
    "[Table of Contents](#table-of-contents)</font>"
   ]
  },
  {
   "cell_type": "markdown",
   "metadata": {},
   "source": [
    "# 6. References <a class=\"anchor\" name=\"references\"></a>\n"
   ]
  },
  {
   "cell_type": "markdown",
   "metadata": {},
   "source": [
    "Apache Spark. (2021). Linear Methods - ML - Spark 1.5.2 Documentation. Retrieved June 1, 2021, from Spark.apache.org: https://spark.apache.org/docs/1.5.2/ml-linear-methods.html"
   ]
  },
  {
   "cell_type": "markdown",
   "metadata": {},
   "source": [
    "databricks. (n.d.). W6L1: Linear Regression Lab. Retrieved June 1, 2021, from https://databricks-prod-cloudfront.cloud.databricks.com/public/4027ec902e239c93eaaa8714f173bcfc/1779476228152266/1437143569842664/5673666086694627/latest.html"
   ]
  },
  {
   "cell_type": "markdown",
   "metadata": {},
   "source": [
    "Oleszak, M. (2019, Nov 13). datacamp. Retrieved June 2, 2021, from Regularization: Ridge, Lasso and Elastic Net: https://www.datacamp.com/community/tutorials/tutorial-ridge-lasso-elastic-net"
   ]
  },
  {
   "cell_type": "markdown",
   "metadata": {},
   "source": [
    "Reese, A. (2021, May 4). Used Cars Dataset - Vehicles listings from Craigslist.org. Retrieved May 17, 2021, from Kaggle.com: https://www.kaggle.com/austinreese/craigslist-carstrucks-data\n",
    "\n",
    "\n"
   ]
  },
  {
   "cell_type": "markdown",
   "metadata": {},
   "source": [
    "<font color=black>Return to \n",
    "[Table of Contents](#table-of-contents)</font>"
   ]
  }
 ],
 "metadata": {
  "kernelspec": {
   "display_name": "Python 3",
   "language": "python",
   "name": "python3"
  },
  "language_info": {
   "codemirror_mode": {
    "name": "ipython",
    "version": 3
   },
   "file_extension": ".py",
   "mimetype": "text/x-python",
   "name": "python",
   "nbconvert_exporter": "python",
   "pygments_lexer": "ipython3",
   "version": "3.8.8"
  }
 },
 "nbformat": 4,
 "nbformat_minor": 4
}
